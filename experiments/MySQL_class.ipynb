{
 "cells": [
  {
   "cell_type": "markdown",
   "id": "798f50e0",
   "metadata": {},
   "source": [
    "## MySQL class creation  "
   ]
  },
  {
   "cell_type": "markdown",
   "id": "a0414e7b",
   "metadata": {},
   "source": [
    "### 2"
   ]
  },
  {
   "cell_type": "code",
   "execution_count": 8,
   "id": "0b4a4bb0",
   "metadata": {},
   "outputs": [],
   "source": [
    "# Importing libraries\n",
    "import termcolor\n",
    "import mysql.connector\n",
    "import time\n",
    "from prettytable import PrettyTable\n",
    "\n",
    "import csv\n",
    "import os"
   ]
  },
  {
   "cell_type": "code",
   "execution_count": 9,
   "id": "574b1d98",
   "metadata": {},
   "outputs": [],
   "source": [
    "class MySQL_connector_no_doc:\n",
    "    def __init__(self):\n",
    "        self.config=None\n",
    "        self.connection = None\n",
    "        self.cursor = None\n",
    "        \n",
    "    def __str__(self):\n",
    "        termcolor.cprint(\"MySQLHandler Object -\",\"dark_grey\", attrs=['bold'], end='\\n')\n",
    "        termcolor.cprint(\"Config:\",'black',attrs=['bold'], end=' ')\n",
    "        termcolor.cprint(f\"{self.config}\",'blue',attrs=['bold'], end='\\n')\n",
    "        termcolor.cprint(\"Connected:\",'black',attrs=['bold'], end=' ')\n",
    "        termcolor.cprint(f\"{self.connection is not None}\",'blue',attrs=['bold'], end='\\n')\n",
    "        return \"\"\n",
    "        \n",
    "    def connect_to_mysql(self, config, attempts=3, delay=2):\n",
    "        self.config=config\n",
    "        attempt = 1\n",
    "        # Implement a reconnection routine\n",
    "        while attempt < attempts + 1:\n",
    "            try:\n",
    "                no_dict=\"\"\n",
    "                if type(self.config)!= dict:\n",
    "                    no_dict=\"Not dict type\"\n",
    "                self.connection=mysql.connector.connect(**self.config) #edited\n",
    "                self.cursor = self.connection.cursor()                 #added\n",
    "                termcolor.cprint(\"Connected successfully....\",\"green\", attrs=['bold'], end='\\n')\n",
    "                return self.connection  \n",
    "            except (mysql.connector.Error, IOError, Exception) as e:\n",
    "                if (attempts is attempt):\n",
    "                    # Attempts to reconnect failed; returning None\n",
    "                    termcolor.cprint(\"Failed to connect, exiting without a connection:\",\"red\", attrs=['bold'], end=' ')\n",
    "                    print(e, no_dict)\n",
    "                    return None\n",
    "                # progressive reconnect delay\n",
    "                time.sleep(delay ** attempt)\n",
    "                attempt += 1\n",
    "        return None\n",
    "        \n",
    "    def execute_query(self, query):\n",
    "        #\n",
    "        try:\n",
    "            self.cursor.execute(query) \n",
    "            try:\n",
    "                rows = self.cursor.fetchall()\n",
    "                column_names = [desc[0] for desc in self.cursor.description]\n",
    "                # Display results using PrettyTable\n",
    "                if rows:\n",
    "                    table = PrettyTable(column_names)\n",
    "                    table.align = 'l'\n",
    "                    for row in rows:\n",
    "                        table.add_row(row)\n",
    "                    termcolor.cprint(\"Query executed successfully....\",\"green\", attrs=['bold'], end='\\n')\n",
    "                    print(table)\n",
    "                else:\n",
    "                    termcolor.cprint(\"No results found.\",\"red\", attrs=['bold'], end=' ')\n",
    "\n",
    "            except Exception as e:\n",
    "                termcolor.cprint(\"Query:\",\"green\", attrs=['bold'], end=' ')\n",
    "                termcolor.cprint(f\"\\\"{query}\\\"\",\"blue\", attrs=['bold'], end=' ')\n",
    "                termcolor.cprint(\"executed successfully.\",\"green\", attrs=['bold'], end=' ')\n",
    "                return\n",
    "        except Exception as e:\n",
    "            termcolor.cprint(\"Error executing query:\",\"red\", attrs=['bold'], end=' ')\n",
    "            print(e)\n",
    "    \n",
    "    # Helper function\n",
    "    def fetch_db(self,db_name):\n",
    "        if db_name==\"\":\n",
    "            cursor=self.connection.cursor()\n",
    "            query_select=\"select database()\"\n",
    "            cursor.execute(query_select)\n",
    "            db=cursor.fetchall()\n",
    "            db_name=db[0][0]\n",
    "            return cursor,db_name\n",
    "        else:\n",
    "            try:\n",
    "                cursor=self.connection.cursor()\n",
    "                query_db=f\"use {db_name}\"\n",
    "                cursor.execute(query_db)\n",
    "                return cursor,db_name\n",
    "            except Exception as e:\n",
    "                termcolor.cprint(\"Error using db_name:\",\"red\", attrs=['bold'], end=' ')\n",
    "                print(e,end='')\n",
    "                return _,None\n",
    "            \n",
    "    # Helper function\n",
    "    def fetch_tables(self,cursor):\n",
    "        query_tables='show tables'\n",
    "        cursor.execute(query_tables)\n",
    "        tables=cursor.fetchall()\n",
    "        list_table=[table[0]  for table in tables]\n",
    "        return list_table\n",
    "    \n",
    "    \n",
    "    def insert_data(self, table_name, values, db_name =\"\"):\n",
    "        \n",
    "        # Fetch the database\n",
    "        cursor,db_name=self.fetch_db(db_name)\n",
    "        if db_name==None:\n",
    "            return\n",
    "        else:\n",
    "            print(f\"Your database: '{db_name}'\")\n",
    "\n",
    "        try: \n",
    "            # Fetching the tables of the database\n",
    "            list_table=self.fetch_tables(cursor)\n",
    "            \n",
    "            if table_name in list_table:\n",
    "                termcolor.cprint(\"Your table:\",\"green\", attrs=['bold'], end=' ')\n",
    "                termcolor.cprint(f\"'{table_name}'\", \"blue\", attrs=['bold'], end=' ')\n",
    "                termcolor.cprint(\", present in the database\", end=' ')\n",
    "                termcolor.cprint(f\"'{db_name}'\", \"blue\", attrs=['bold'], end='\\n')\n",
    "\n",
    "            else:\n",
    "                termcolor.cprint(\"Table not found:\", \"red\", attrs=['bold'], end=' ')\n",
    "                print(f\"'{table_name}' is not present in the database '{db_name}'.\")\n",
    "                print(f\"Select one of the following tables \", end='')\n",
    "                termcolor.cprint(f\"{list_table}\", attrs=['bold'], end=' ')\n",
    "                print(\"or create new table or use another database.\")\n",
    "                return\n",
    "        except Exception as e:\n",
    "            termcolor.cprint(\"Error fetching the tables:\",\"red\", attrs=['bold'], end=' ')\n",
    "            print(e)\n",
    "            return\n",
    "\n",
    "        # Fetch the columns of table\n",
    "        try:   \n",
    "            query_table=f\"select * from {table_name}\"\n",
    "            cursor.execute(query_table)\n",
    "            cursor.fetchall()\n",
    "            desc=cursor.description\n",
    "            columns=[t[0] for t in desc]\n",
    "\n",
    "            flag=input(\"Enter yes if the first value of argument is 'id' and you have not provided: \").lower()\n",
    "            if flag=='y' or flag=='yes':\n",
    "                columns=columns[1:]\n",
    "            d=str(tuple(columns))\n",
    "            column_table=d.replace('\\'','')\n",
    "\n",
    "        except Exception as e:\n",
    "            termcolor.cprint(\"Error fetching column names:\",\"red\", attrs=['bold'], end=' ')\n",
    "            print(e)\n",
    "            return\n",
    "\n",
    "        # Write query and insert the data\n",
    "        query= f\"INSERT INTO {table_name} {column_table} VALUES ({', '.join('%s' for _ in columns)})\"\n",
    "        try:\n",
    "            tmp=0\n",
    "            while(tmp<3):\n",
    "                flag_insert=input(\"Are you inserting more than one entry?(y/n) \").lower()\n",
    "                if flag_insert=='y':\n",
    "                    cursor.executemany(query, values)\n",
    "                    break\n",
    "                elif flag_insert=='n':    \n",
    "                    cursor.execute(query, values)\n",
    "                    break\n",
    "                else:\n",
    "                    print(\"Incorrect option..\")\n",
    "                tmp+=1\n",
    "            if tmp==3:\n",
    "                termcolor.cprint(\"Program exited without inserting\",\"magenta\", attrs=['bold'], end=' ')\n",
    "                return\n",
    "            self.connection.commit()\n",
    "            termcolor.cprint(\"Inserted successfully....\", 'green', attrs=['bold'], end=' ')\n",
    "        except Exception as e:\n",
    "            termcolor.cprint(\"Error inserting data:\",\"red\", attrs=['bold'], end=' ')\n",
    "            print(e)\n",
    "        \n",
    "    def save_data(self, table_name, db_name=\"\"):\n",
    "        \n",
    "        cursor,db_name=self.fetch_db(db_name)\n",
    "        if db_name==None:\n",
    "            return\n",
    "\n",
    "        try: \n",
    "            list_table=self.fetch_tables(cursor)\n",
    "            \n",
    "            if table_name not in list_table:\n",
    "                termcolor.cprint(\"Table not found:\", \"red\", attrs=['bold'], end=' ')\n",
    "                print(f\"'{table_name}' is not present in the database '{db_name}'.\")\n",
    "                print(f\"Select one of the following tables \", end='')\n",
    "                termcolor.cprint(f\"{list_table}\", attrs=['bold'], end=' ')\n",
    "                print(\"or create new table or use another database.\")\n",
    "                return\n",
    "\n",
    "        except Exception as e:\n",
    "            termcolor.cprint(\"Error fetching the tables:\",\"red\", attrs=['bold'], end=' ')\n",
    "            print(e)\n",
    "            return\n",
    "\n",
    "        try:\n",
    "            query = f\"SELECT * FROM {table_name}\"\n",
    "            cursor.execute(query)\n",
    "            rows = cursor.fetchall()\n",
    "            column_names = [desc[0] for desc in cursor.description]\n",
    "            csv_file_name =input(\"Enter the filename: \")\n",
    "            # Create the full path for the output CSV file\n",
    "            file_path=os.path.join(os.getcwd(), csv_file_name)\n",
    "            with open(file_path, 'w', newline='') as csv_file:\n",
    "                csv_writer = csv.writer(csv_file)\n",
    "                csv_writer.writerow(column_names)\n",
    "                csv_writer.writerows(rows)\n",
    "            if os.path.exists(csv_file_name):\n",
    "                termcolor.cprint(\"File:\", 'green', attrs=['bold'], end=' ')\n",
    "                termcolor.cprint(f\"'{csv_file_name}'\", 'blue', attrs=['bold'], end=' ')\n",
    "                termcolor.cprint(\"saved successfully....\", 'green', attrs=['bold'])\n",
    "\n",
    "        except Exception as e:\n",
    "            termcolor.cprint(\"Error saving data:\",\"red\", attrs=['bold'], end=' ')\n",
    "            print(e)\n",
    "            \n",
    "    def close_connection(self):\n",
    "        if self.connection:\n",
    "            self.cursor.close()\n",
    "            self.connection.close()\n",
    "            termcolor.cprint(\"MySQL connection closed.\",\"dark_grey\", attrs=['bold'], end=' ')\n",
    "            self.connection=None\n",
    "        else:\n",
    "            termcolor.cprint(\"MySQL connection is not active, may be connection is already closed.\",\"magenta\", attrs=['bold'], end=' ')\n",
    "         "
   ]
  },
  {
   "cell_type": "code",
   "execution_count": 13,
   "id": "1ea1c99f",
   "metadata": {},
   "outputs": [],
   "source": [
    "config={\n",
    "    'host':'localhost',\n",
    "    'user':'root',\n",
    "    'password':'Ravi@46931',\n",
    "    'database':'firstsql'\n",
    "}\n",
    "\n",
    "# Initiate MySQL object\n",
    "mysql_handler=MySQL_connector_no_doc()"
   ]
  },
  {
   "cell_type": "code",
   "execution_count": 4,
   "id": "e7180480",
   "metadata": {},
   "outputs": [
    {
     "data": {
      "text/plain": [
       "<__main__.MySQL_connector at 0x1885f717cd0>"
      ]
     },
     "execution_count": 4,
     "metadata": {},
     "output_type": "execute_result"
    }
   ],
   "source": [
    "mysql_handler"
   ]
  },
  {
   "cell_type": "code",
   "execution_count": 15,
   "id": "3731462f",
   "metadata": {},
   "outputs": [
    {
     "name": "stdout",
     "output_type": "stream",
     "text": [
      "\u001b[1m\u001b[32mConnected successfully....\u001b[0m\n"
     ]
    }
   ],
   "source": [
    "## Connect to MySQL server\n",
    "conn=mysql_handler.connect_to_mysql(config,attempts=3)"
   ]
  },
  {
   "cell_type": "code",
   "execution_count": 16,
   "id": "5e47a998",
   "metadata": {},
   "outputs": [
    {
     "name": "stdout",
     "output_type": "stream",
     "text": [
      "\u001b[1m\u001b[90mMySQLHandler Object -\u001b[0m\n",
      "\u001b[1m\u001b[30mConfig:\u001b[0m \u001b[1m\u001b[34m{'host': 'localhost', 'user': 'root', 'password': 'Ravi@46931', 'database': 'firstsql'}\u001b[0m\n",
      "\u001b[1m\u001b[30mConnected:\u001b[0m \u001b[1m\u001b[34mTrue\u001b[0m\n",
      "\n"
     ]
    }
   ],
   "source": [
    "print(mysql_handler)"
   ]
  },
  {
   "cell_type": "code",
   "execution_count": 7,
   "id": "06b67907",
   "metadata": {},
   "outputs": [
    {
     "data": {
      "text/plain": [
       "<__main__.MySQL_connector at 0x1885f717cd0>"
      ]
     },
     "execution_count": 7,
     "metadata": {},
     "output_type": "execute_result"
    }
   ],
   "source": [
    "mysql_handler"
   ]
  },
  {
   "cell_type": "code",
   "execution_count": 8,
   "id": "6026f99f",
   "metadata": {},
   "outputs": [
    {
     "data": {
      "text/plain": [
       "<mysql.connector.connection_cext.CMySQLConnection at 0x1885f717430>"
      ]
     },
     "execution_count": 8,
     "metadata": {},
     "output_type": "execute_result"
    }
   ],
   "source": [
    "conn"
   ]
  },
  {
   "cell_type": "code",
   "execution_count": 9,
   "id": "9638b906",
   "metadata": {},
   "outputs": [
    {
     "name": "stdout",
     "output_type": "stream",
     "text": [
      "\u001b[1m\u001b[32mQuery executed successfully....\u001b[0m\n",
      "+--------------------+\n",
      "| Database           |\n",
      "+--------------------+\n",
      "| book_shop          |\n",
      "| dummy              |\n",
      "| emp                |\n",
      "| firstsql           |\n",
      "| head               |\n",
      "| ig_clone           |\n",
      "| information_schema |\n",
      "| lit                |\n",
      "| many2many          |\n",
      "| mhit_lit           |\n",
      "| mysql              |\n",
      "| org                |\n",
      "| performance_schema |\n",
      "| relationship       |\n",
      "| sakila             |\n",
      "| shirts_db          |\n",
      "| sys                |\n",
      "| telusko            |\n",
      "| temp               |\n",
      "| temps              |\n",
      "| world              |\n",
      "+--------------------+\n"
     ]
    }
   ],
   "source": [
    "# Execute any query\n",
    "\n",
    "query=\"use book_shop\"\n",
    "query=\"show databases\"\n",
    "# query=\"select database()\"\n",
    "# query=\"show tables\"\n",
    "# query=\"use lit\"\n",
    "# query=\"select * from cats\"\n",
    "mysql_handler.execute_query(query)              "
   ]
  },
  {
   "cell_type": "code",
   "execution_count": 13,
   "id": "ce725789",
   "metadata": {},
   "outputs": [
    {
     "name": "stdout",
     "output_type": "stream",
     "text": [
      "\u001b[1m\u001b[31mError using db_name:\u001b[0m 'NoneType' object has no attribute 'cursor'"
     ]
    }
   ],
   "source": [
    "# Insert the data\n",
    "\n",
    "# db_name='book_shop'\n",
    "table_name='cats'\n",
    "values=[\n",
    "    ('oap', 2),\n",
    "    (\"Uepy\",11)\n",
    "]\n",
    "mysql_handler.insert_data(table_name, values, db_name)"
   ]
  },
  {
   "cell_type": "code",
   "execution_count": 12,
   "id": "2c9fc200",
   "metadata": {},
   "outputs": [
    {
     "name": "stdout",
     "output_type": "stream",
     "text": [
      "\u001b[1m\u001b[31mError using db_name:\u001b[0m 'NoneType' object has no attribute 'cursor'"
     ]
    }
   ],
   "source": [
    "# Save the data\n",
    "\n",
    "table_name='cats'\n",
    "db_name='lit'\n",
    "mysql_handler.save_data(table_name, db_name)"
   ]
  },
  {
   "cell_type": "code",
   "execution_count": 11,
   "id": "f1331960",
   "metadata": {},
   "outputs": [
    {
     "name": "stdout",
     "output_type": "stream",
     "text": [
      "\u001b[1m\u001b[90mMySQL connection closed.\u001b[0m "
     ]
    }
   ],
   "source": [
    "# Close the connection\n",
    "\n",
    "mysql_handler.close_connection()"
   ]
  },
  {
   "cell_type": "code",
   "execution_count": null,
   "id": "2ddfa7e4",
   "metadata": {},
   "outputs": [],
   "source": []
  },
  {
   "cell_type": "code",
   "execution_count": null,
   "id": "c6677426",
   "metadata": {},
   "outputs": [],
   "source": []
  },
  {
   "cell_type": "code",
   "execution_count": 17,
   "id": "3fa45ba8",
   "metadata": {},
   "outputs": [],
   "source": [
    "class MySQL_connector:\n",
    "    def __init__(self):\n",
    "        self.config=None\n",
    "        self.connection = None\n",
    "        self.cursor = None\n",
    "        \n",
    "    def __str__(self):\n",
    "        termcolor.cprint(\"MySQLHandler Object -\",\"dark_grey\", attrs=['bold'], end='\\n')\n",
    "        termcolor.cprint(\"Config:\",attrs=['bold'], end=' ')\n",
    "        termcolor.cprint(f\"{self.config}\",'blue',attrs=['bold'], end='\\n')\n",
    "        termcolor.cprint(\"Connected:\",attrs=['bold'], end=' ')\n",
    "        termcolor.cprint(f\"{self.connection is not None}\",'blue',attrs=['bold'], end='\\n')\n",
    "        return \"\"\n",
    "        \n",
    "    def connect_to_mysql(self, config, attempts=3, delay=2):\n",
    "        \"\"\"\n",
    "        Attempt to establish a connection to a MySQL database.\n",
    "\n",
    "        Parameters:\n",
    "        - attempts (int): The maximum number of connection attempts (default is 3).\n",
    "        - delay (int): The delay in seconds between connection attempts (default is 2).\n",
    "\n",
    "        Returns:\n",
    "        - mysql.connector.connection.MySQLConnection or None: The MySQL database connection object if successful,\n",
    "          or None if the connection attempts are exhausted.\n",
    "\n",
    "        Raises:\n",
    "        - mysql.connector.Error: If a MySQL-specific error occurs during connection.\n",
    "        - IOError: If an I/O error occurs during connection.\n",
    "        - Exception: For general exceptions during connection.\n",
    "        \n",
    "        Example Usage:\n",
    "        ```python\n",
    "        config = {\n",
    "            'host': 'your_mysql_host',\n",
    "            'user': 'your_mysql_user',\n",
    "            'password': 'your_mysql_password',\n",
    "            'database': 'your_database_name'\n",
    "        }\n",
    "        # Initiate MySQL object\n",
    "        mysql_handler=MySQL_connector()\n",
    "        connection = mysql_handler.connect_to_mysql(config, attempts=3, delay=2)\n",
    "        ```\n",
    "        \"\"\"\n",
    "        self.config=config\n",
    "        attempt = 1\n",
    "        # Implement a reconnection routine\n",
    "        while attempt < attempts + 1:\n",
    "            try:\n",
    "                no_dict=\"\"\n",
    "                if type(self.config)!= dict:\n",
    "                    no_dict=\"Not dict type\"\n",
    "                self.connection=mysql.connector.connect(**self.config)\n",
    "                self.cursor = self.connection.cursor()                 \n",
    "                termcolor.cprint(\"Connected successfully....\",\"green\", attrs=['bold'], end='\\n')\n",
    "                return self.connection  \n",
    "            except (mysql.connector.Error, IOError, Exception) as e:\n",
    "                if (attempts is attempt):\n",
    "                    # Attempts to reconnect failed; returning None\n",
    "                    termcolor.cprint(\"Failed to connect, exiting without a connection:\",\"red\", attrs=['bold'], end=' ')\n",
    "                    print(e, no_dict)\n",
    "                    return None\n",
    "                # progressive reconnect delay\n",
    "                time.sleep(delay ** attempt)\n",
    "                attempt += 1\n",
    "        return None\n",
    "        \n",
    "    def execute_query(self, query):\n",
    "        \"\"\"\n",
    "        Execute a SQL query and display displays the results in a formatted table. Or simply execute query only.\n",
    "        \n",
    "        Parameters:\n",
    "        - query (str): The SQL query to be executed.\n",
    "        \n",
    "        Returns:\n",
    "        None\n",
    "        \n",
    "        Raises:\n",
    "        - Exception: If an error occurs during the query execution or result retrieval.\n",
    "        \n",
    "        Example Usage:\n",
    "        ```python\n",
    "        # Assuming an instance of your class is created, let's call it 'mysql_handler'\n",
    "        # Assuming you have a database connection\n",
    "\n",
    "        # Execute a query\n",
    "        select_query = \"SELECT * FROM my_table\"\n",
    "        mysql_handler.execute_query(select_query)\n",
    "        ```\n",
    "        \"\"\"\n",
    "        try:\n",
    "            self.cursor.execute(query) \n",
    "            try:\n",
    "                rows = self.cursor.fetchall()\n",
    "                column_names = [desc[0] for desc in self.cursor.description]\n",
    "                # Display results using PrettyTable\n",
    "                if rows:\n",
    "                    table = PrettyTable(column_names)\n",
    "                    table.align = 'l'\n",
    "                    for row in rows:\n",
    "                        table.add_row(row)\n",
    "                    termcolor.cprint(\"Query executed successfully....\",\"green\", attrs=['bold'], end='\\n')\n",
    "                    print(table)\n",
    "                else:\n",
    "                    termcolor.cprint(\"No results found.\",\"red\", attrs=['bold'], end=' ')\n",
    "\n",
    "            except Exception as e:\n",
    "                termcolor.cprint(\"Query:\",\"green\", attrs=['bold'], end=' ')\n",
    "                termcolor.cprint(f\"\\\"{query}\\\"\",\"blue\", attrs=['bold'], end=' ')\n",
    "                termcolor.cprint(\"executed successfully.\",\"green\", attrs=['bold'], end=' ')\n",
    "                return\n",
    "        except Exception as e:\n",
    "            termcolor.cprint(\"Error executing query:\",\"red\", attrs=['bold'], end=' ')\n",
    "            print(e)\n",
    "    \n",
    "    # Helper function\n",
    "    def fetch_db(self,db_name):\n",
    "        \"\"\"\n",
    "        Set the active database for the current connection and retrieve the current database.\n",
    "\n",
    "        Parameters:\n",
    "        - db_name (str): The name of the database to use. If an empty string is provided,\n",
    "          the method retrieves the current active database.\n",
    "        \n",
    "        Returns:\n",
    "        - cursor (object): A cursor object connected to the selected database.\n",
    "        - db_name (str): The name of the database that was fetched or switched to.\n",
    "        \n",
    "        Raises:\n",
    "        - Exception: If an error occurs during the database selection or retrieval.\n",
    "        \"\"\"\n",
    "        if db_name==\"\":\n",
    "            cursor=self.connection.cursor()\n",
    "            query_select=\"select database()\"\n",
    "            cursor.execute(query_select)\n",
    "            db=cursor.fetchall()\n",
    "            db_name=db[0][0]\n",
    "            return cursor,db_name\n",
    "        else:\n",
    "            try:\n",
    "                cursor=self.connection.cursor()\n",
    "                query_db=f\"use {db_name}\"\n",
    "                cursor.execute(query_db)\n",
    "                return cursor,db_name\n",
    "            except Exception as e:\n",
    "                termcolor.cprint(\"Error using db_name:\",\"red\", attrs=['bold'], end=' ')\n",
    "                print(e,end='')\n",
    "                return _,None\n",
    "            \n",
    "    # Helper function\n",
    "    def fetch_tables(self,cursor):\n",
    "        \"\"\"\n",
    "        Retrieve a list of table names in the connected database using the provided database cursor.\n",
    "\n",
    "        Parameters:\n",
    "        - cursor: The database cursor used to execute the query.\n",
    "\n",
    "        Returns:\n",
    "        - list: A list containing the names of the tables in the connected database.\n",
    "        \"\"\"\n",
    "        query_tables='show tables'\n",
    "        cursor.execute(query_tables)\n",
    "        tables=cursor.fetchall()\n",
    "        list_table=[table[0]  for table in tables]\n",
    "        return list_table\n",
    "    \n",
    "    \n",
    "    def insert_data(self, table_name, values, db_name =\"\"):\n",
    "        \"\"\"\n",
    "        Insert data into a specified table in the connected database.\n",
    "\n",
    "        Parameters:\n",
    "        - table_name (str): The name of the table where the data will be inserted.\n",
    "        - values (list or tuple): The values to be inserted into the table.\n",
    "        - db_name (str, optional): The name of the database. If not provided, the active database is used.\n",
    "\n",
    "        Returns:\n",
    "        None\n",
    "\n",
    "        Raises:\n",
    "        - Exception: If an error occurs during the data insertion process.\n",
    "        \n",
    "        Example Usage:\n",
    "        ```python\n",
    "        # Assuming an instance of your class is created, let's call it 'mysql_handler'\n",
    "        # Assuming you have an established database connection\n",
    "        \n",
    "        # Insert single entry into the 'example_table' in the active database\n",
    "        values_single_entry = (1, 'John Doe', 25)\n",
    "        mysql_handler.insert_data(\"example_table\", values_single_entry)\n",
    "\n",
    "        # Insert multiple entries into the 'example_table' in the specified database\n",
    "        values_multiple_entries = [\n",
    "            (1, 'John Doe', 25),\n",
    "            (2, 'Jane Smith', 30),\n",
    "            (3, 'Bob Johnson', 22)\n",
    "        ]\n",
    "        mysql_handler.insert_data(\"example_table\", values_multiple_entries, db_name=\"my_database\")\n",
    "        ```\n",
    "        \"\"\"\n",
    "        # Fetch the database and cursor\n",
    "        cursor,db_name=self.fetch_db(db_name)\n",
    "        if db_name==None:\n",
    "            return\n",
    "        else:\n",
    "            print(f\"Your database: '{db_name}'\")\n",
    "\n",
    "        try: \n",
    "            # Fetch the tables of the database\n",
    "            list_table=self.fetch_tables(cursor)\n",
    "            \n",
    "            if table_name in list_table:\n",
    "                termcolor.cprint(\"Your table:\",\"green\", attrs=['bold'], end=' ')\n",
    "                termcolor.cprint(f\"'{table_name}'\", \"blue\", attrs=['bold'], end=' ')\n",
    "                termcolor.cprint(\", present in the database\", end=' ')\n",
    "                termcolor.cprint(f\"'{db_name}'\", \"blue\", attrs=['bold'], end='\\n')\n",
    "\n",
    "            else:\n",
    "                termcolor.cprint(\"Table not found:\", \"red\", attrs=['bold'], end=' ')\n",
    "                print(f\"'{table_name}' is not present in the database '{db_name}'.\")\n",
    "                print(f\"Select one of the following tables \", end='')\n",
    "                termcolor.cprint(f\"{list_table}\", attrs=['bold'], end=' ')\n",
    "                print(\"or create new table or use another database.\")\n",
    "                return\n",
    "        except Exception as e:\n",
    "            termcolor.cprint(\"Error fetching the tables:\",\"red\", attrs=['bold'], end=' ')\n",
    "            print(e)\n",
    "            return\n",
    "\n",
    "        # Fetch the columns of table\n",
    "        try:   \n",
    "            query_table=f\"select * from {table_name}\"\n",
    "            cursor.execute(query_table)\n",
    "            cursor.fetchall()\n",
    "            desc=cursor.description\n",
    "            columns=[t[0] for t in desc]\n",
    "\n",
    "            flag=input(\"Enter yes if the first value of argument is 'id' and you have not provided: \").lower()\n",
    "            if flag=='y' or flag=='yes':\n",
    "                columns=columns[1:]\n",
    "            d=str(tuple(columns))\n",
    "            column_table=d.replace('\\'','')\n",
    "\n",
    "        except Exception as e:\n",
    "            termcolor.cprint(\"Error fetching column names:\",\"red\", attrs=['bold'], end=' ')\n",
    "            print(e)\n",
    "            return\n",
    "\n",
    "        # Write query and insert the data\n",
    "        query= f\"INSERT INTO {table_name} {column_table} VALUES ({', '.join('%s' for _ in columns)})\"\n",
    "        try:\n",
    "            tmp=0\n",
    "            while(tmp<3):\n",
    "                flag_insert=input(\"Are you inserting more than one entry?(y/n) \").lower()\n",
    "                if flag_insert=='y':\n",
    "                    cursor.executemany(query, values)\n",
    "                    break\n",
    "                elif flag_insert=='n':    \n",
    "                    cursor.execute(query, values)\n",
    "                    break\n",
    "                else:\n",
    "                    print(\"Incorrect option..\")\n",
    "                tmp+=1\n",
    "            if tmp==3:\n",
    "                termcolor.cprint(\"Program exited without inserting\",\"magenta\", attrs=['bold'], end=' ')\n",
    "                return\n",
    "            self.connection.commit()\n",
    "            termcolor.cprint(\"Inserted successfully....\", 'green', attrs=['bold'], end=' ')\n",
    "        except Exception as e:\n",
    "            termcolor.cprint(\"Error inserting data:\",\"red\", attrs=['bold'], end=' ')\n",
    "            print(e)\n",
    "        \n",
    "    def save_data(self, table_name, db_name=\"\"):\n",
    "        \"\"\"\n",
    "        Save data from a specified table in the connected database to a CSV file.\n",
    "\n",
    "        Parameters:\n",
    "        - table_name (str): The name of the table from which data will be saved.\n",
    "        - db_name (str, optional): The name of the database where the given table is present. If not provided, the active database is used.\n",
    "\n",
    "        Returns:\n",
    "        None\n",
    "\n",
    "        Raises:\n",
    "        - Exception: If an error occurs during the data retrieval or CSV file creation process.\n",
    "        \n",
    "        Example Usage:\n",
    "        ```python\n",
    "        # Assuming an instance of your class is created, let's call it 'mysql_handler'\n",
    "        # Assuming you have an established database connection\n",
    "\n",
    "        # Save data from the 'example_table' in the active database to a CSV file\n",
    "        mysql_handler.save_data(\"example_table\")\n",
    "\n",
    "        # Save data from the 'another_table' in the specified database to a CSV file\n",
    "        mysql_handler.save_data(\"another_table\", db_name=\"my_database\")\n",
    "        ```       \n",
    "        \"\"\"\n",
    "        cursor,db_name=self.fetch_db(db_name)\n",
    "        if db_name==None:\n",
    "            return\n",
    "\n",
    "        try: \n",
    "            list_table=self.fetch_tables(cursor)\n",
    "            \n",
    "            if table_name not in list_table:\n",
    "                termcolor.cprint(\"Table not found:\", \"red\", attrs=['bold'], end=' ')\n",
    "                print(f\"'{table_name}' is not present in the database '{db_name}'.\")\n",
    "                print(f\"Select one of the following tables \", end='')\n",
    "                termcolor.cprint(f\"{list_table}\", attrs=['bold'], end=' ')\n",
    "                print(\"or create new table or use another database.\")\n",
    "                return\n",
    "\n",
    "        except Exception as e:\n",
    "            termcolor.cprint(\"Error fetching the tables:\",\"red\", attrs=['bold'], end=' ')\n",
    "            print(e)\n",
    "            return\n",
    "\n",
    "        try:\n",
    "            query = f\"SELECT * FROM {table_name}\"\n",
    "            cursor.execute(query)\n",
    "            rows = cursor.fetchall()\n",
    "            column_names = [desc[0] for desc in cursor.description]\n",
    "            csv_file_name =input(\"Enter the filename: \")\n",
    "            # Create the full path for the output CSV file\n",
    "            file_path=os.path.join(os.getcwd(), csv_file_name)\n",
    "            with open(file_path, 'w', newline='') as csv_file:\n",
    "                csv_writer = csv.writer(csv_file)\n",
    "                csv_writer.writerow(column_names)\n",
    "                csv_writer.writerows(rows)\n",
    "            if os.path.exists(csv_file_name):\n",
    "                termcolor.cprint(\"File:\", 'green', attrs=['bold'], end=' ')\n",
    "                termcolor.cprint(f\"'{csv_file_name}'\", 'blue', attrs=['bold'], end=' ')\n",
    "                termcolor.cprint(\"saved successfully....\", 'green', attrs=['bold'])\n",
    "\n",
    "        except Exception as e:\n",
    "            termcolor.cprint(\"Error saving data:\",\"red\", attrs=['bold'], end=' ')\n",
    "            print(e)\n",
    "            \n",
    "    def close_connection(self):\n",
    "        \"\"\"\n",
    "        Close the active MySQL database connection.\n",
    "\n",
    "        If a connection is active, close both the cursor and the connection. If no active connection is found,\n",
    "        print a message indicating that the MySQL connection is not active.\n",
    "\n",
    "        Parameters:\n",
    "        None\n",
    "\n",
    "        Returns:\n",
    "        None\n",
    "        \n",
    "        Example Usage:\n",
    "        ```python\n",
    "        # Assuming an instance of your class is created, let's call it 'mysql_handler'\n",
    "        # Assuming you have an established database connection\n",
    "\n",
    "        # Close the active MySQL connection\n",
    "        mysql_handler.close_connection()\n",
    "        ```\n",
    "        \"\"\"\n",
    "        if self.connection:\n",
    "            self.cursor.close()\n",
    "            self.connection.close()\n",
    "            termcolor.cprint(\"MySQL connection closed.\",\"dark_grey\", attrs=['bold'], end=' ')\n",
    "            self.connection=None\n",
    "        else:\n",
    "            termcolor.cprint(\"MySQL connection is not active, may be connection is already closed.\",\"magenta\", attrs=['bold'], end=' ')\n",
    "         "
   ]
  },
  {
   "cell_type": "code",
   "execution_count": 18,
   "id": "881a78e5",
   "metadata": {},
   "outputs": [],
   "source": [
    "## Connect to MySQl database"
   ]
  },
  {
   "cell_type": "code",
   "execution_count": 20,
   "id": "cf5832fd",
   "metadata": {},
   "outputs": [
    {
     "name": "stdout",
     "output_type": "stream",
     "text": [
      "\u001b[1m\u001b[32mConnected successfully....\u001b[0m\n"
     ]
    }
   ],
   "source": [
    "config={\n",
    "    'host':'localhost',\n",
    "    'user':'root',\n",
    "    'password':'Ravi@46931',\n",
    "    'database':'firstsql'\n",
    "}\n",
    "\n",
    "# Initiate MySQL object\n",
    "mysql_handler=MySQL_connector()\n",
    "\n",
    "## Connect to MySQL server\n",
    "conn=mysql_handler.connect_to_mysql(config,attempts=3)"
   ]
  },
  {
   "cell_type": "code",
   "execution_count": 21,
   "id": "1c656bbb",
   "metadata": {},
   "outputs": [
    {
     "name": "stdout",
     "output_type": "stream",
     "text": [
      "\u001b[1m\u001b[90mMySQLHandler Object -\u001b[0m\n",
      "\u001b[1mConfig:\u001b[0m \u001b[1m\u001b[34m{'host': 'localhost', 'user': 'root', 'password': 'Ravi@46931', 'database': 'firstsql'}\u001b[0m\n",
      "\u001b[1mConnected:\u001b[0m \u001b[1m\u001b[34mTrue\u001b[0m\n",
      "\n"
     ]
    }
   ],
   "source": [
    "print(mysql_handler)"
   ]
  },
  {
   "cell_type": "code",
   "execution_count": 22,
   "id": "df446c40",
   "metadata": {},
   "outputs": [],
   "source": [
    "## Execute any query"
   ]
  },
  {
   "cell_type": "code",
   "execution_count": 24,
   "id": "afe057a4",
   "metadata": {},
   "outputs": [
    {
     "name": "stdout",
     "output_type": "stream",
     "text": [
      "\u001b[1m\u001b[32mQuery:\u001b[0m \u001b[1m\u001b[34m\"use lit\"\u001b[0m \u001b[1m\u001b[32mexecuted successfully.\u001b[0m "
     ]
    }
   ],
   "source": [
    "query=\"use book_shop\"\n",
    "query=\"show databases\"\n",
    "# query=\"select database()\"\n",
    "# query=\"show tables\"\n",
    "query=\"use lit\"\n",
    "# query=\"select * from cats\"\n",
    "mysql_handler.execute_query(query)              "
   ]
  },
  {
   "cell_type": "code",
   "execution_count": null,
   "id": "ab3705cb",
   "metadata": {},
   "outputs": [],
   "source": [
    "## Insert the data"
   ]
  },
  {
   "cell_type": "code",
   "execution_count": 25,
   "id": "38ab1008",
   "metadata": {},
   "outputs": [
    {
     "name": "stdout",
     "output_type": "stream",
     "text": [
      "Your database: 'lit'\n",
      "\u001b[1m\u001b[32mYour table:\u001b[0m \u001b[1m\u001b[34m'cats'\u001b[0m , present in the database\u001b[0m \u001b[1m\u001b[34m'lit'\u001b[0m\n",
      "Enter yes if the first value of argument is 'id' and you have not provided: t\n",
      "Are you inserting more than one entry?(y/n) y\n",
      "\u001b[1m\u001b[32mInserted successfully....\u001b[0m "
     ]
    }
   ],
   "source": [
    "db_name='lit'\n",
    "table_name='cats'\n",
    "values=[\n",
    "    ('Bappy', 2),\n",
    "    (\"Phine\",11)\n",
    "]\n",
    "mysql_handler.insert_data(table_name, values, db_name)"
   ]
  },
  {
   "cell_type": "code",
   "execution_count": null,
   "id": "04dd4ab3",
   "metadata": {},
   "outputs": [],
   "source": [
    "## Save the data"
   ]
  },
  {
   "cell_type": "code",
   "execution_count": 13,
   "id": "d6ef8f6a",
   "metadata": {},
   "outputs": [
    {
     "name": "stdout",
     "output_type": "stream",
     "text": [
      "\u001b[1m\u001b[32mFile:\u001b[0m \u001b[1m\u001b[34m'book.csv'\u001b[0m \u001b[1m\u001b[32msaved successfully....\u001b[0m\n"
     ]
    }
   ],
   "source": [
    "table_name='books'\n",
    "db_name='book_shop'\n",
    "mysql_handler.save_data(table_name, db_name)"
   ]
  },
  {
   "cell_type": "code",
   "execution_count": 14,
   "id": "5b35f247",
   "metadata": {},
   "outputs": [],
   "source": [
    "## Close the connection"
   ]
  },
  {
   "cell_type": "code",
   "execution_count": 27,
   "id": "fa48fabc",
   "metadata": {},
   "outputs": [
    {
     "name": "stdout",
     "output_type": "stream",
     "text": [
      "\u001b[1m\u001b[35mMySQL connection is not active, may be connection is already closed.\u001b[0m "
     ]
    }
   ],
   "source": [
    "mysql_handler.close_connection()"
   ]
  },
  {
   "cell_type": "code",
   "execution_count": 15,
   "id": "7e3c64f6",
   "metadata": {},
   "outputs": [
    {
     "name": "stdout",
     "output_type": "stream",
     "text": [
      "\n",
      "        Retrieve a list of table names in the connected database using the provided database cursor.\n",
      "\n",
      "        Parameters:\n",
      "        - cursor: The database cursor used to execute the query.\n",
      "\n",
      "        Returns:\n",
      "        - list: A list containing the names of the tables in the connected database.\n",
      "        \n"
     ]
    }
   ],
   "source": [
    "print(mysql_handler.fetch_tables.__doc__)"
   ]
  },
  {
   "cell_type": "code",
   "execution_count": null,
   "id": "cf90f817",
   "metadata": {},
   "outputs": [],
   "source": []
  },
  {
   "cell_type": "code",
   "execution_count": null,
   "id": "1cee975c",
   "metadata": {},
   "outputs": [],
   "source": []
  },
  {
   "cell_type": "code",
   "execution_count": 18,
   "id": "a70fc3cb",
   "metadata": {},
   "outputs": [],
   "source": [
    "print(connect_to_mysql.__doc__)"
   ]
  },
  {
   "cell_type": "code",
   "execution_count": null,
   "id": "fadad642",
   "metadata": {},
   "outputs": [],
   "source": [
    "!pip uninstall markdownify"
   ]
  },
  {
   "cell_type": "code",
   "execution_count": null,
   "id": "a8a2ebef",
   "metadata": {},
   "outputs": [],
   "source": [
    "!pip uninstall rich"
   ]
  },
  {
   "cell_type": "code",
   "execution_count": null,
   "id": "15921a30",
   "metadata": {},
   "outputs": [],
   "source": []
  },
  {
   "cell_type": "code",
   "execution_count": null,
   "id": "8140b499",
   "metadata": {},
   "outputs": [],
   "source": []
  },
  {
   "cell_type": "code",
   "execution_count": null,
   "id": "83e63745",
   "metadata": {},
   "outputs": [],
   "source": []
  }
 ],
 "metadata": {
  "kernelspec": {
   "display_name": "python_3.10",
   "language": "python",
   "name": "python_3.10"
  },
  "language_info": {
   "codemirror_mode": {
    "name": "ipython",
    "version": 3
   },
   "file_extension": ".py",
   "mimetype": "text/x-python",
   "name": "python",
   "nbconvert_exporter": "python",
   "pygments_lexer": "ipython3",
   "version": "3.10.11"
  }
 },
 "nbformat": 4,
 "nbformat_minor": 5
}
