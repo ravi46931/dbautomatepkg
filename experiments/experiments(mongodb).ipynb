{
 "cells": [
  {
   "cell_type": "code",
   "execution_count": 3,
   "id": "943348b6",
   "metadata": {
    "collapsed": true
   },
   "outputs": [
    {
     "name": "stdout",
     "output_type": "stream",
     "text": [
      "Collecting pymongo"
     ]
    },
    {
     "name": "stderr",
     "output_type": "stream",
     "text": [
      "WARNING: Ignoring invalid distribution -rotobuf (c:\\users\\hp\\appdata\\local\\programs\\python\\python310\\lib\\site-packages)\n",
      "WARNING: Ignoring invalid distribution -rotobuf (c:\\users\\hp\\appdata\\local\\programs\\python\\python310\\lib\\site-packages)\n",
      "WARNING: Ignoring invalid distribution -rotobuf (c:\\users\\hp\\appdata\\local\\programs\\python\\python310\\lib\\site-packages)\n",
      "WARNING: Ignoring invalid distribution -rotobuf (c:\\users\\hp\\appdata\\local\\programs\\python\\python310\\lib\\site-packages)\n",
      "WARNING: Ignoring invalid distribution -rotobuf (c:\\users\\hp\\appdata\\local\\programs\\python\\python310\\lib\\site-packages)\n",
      "WARNING: Ignoring invalid distribution -rotobuf (c:\\users\\hp\\appdata\\local\\programs\\python\\python310\\lib\\site-packages)\n",
      "WARNING: Ignoring invalid distribution -rotobuf (c:\\users\\hp\\appdata\\local\\programs\\python\\python310\\lib\\site-packages)\n",
      "WARNING: Ignoring invalid distribution -rotobuf (c:\\users\\hp\\appdata\\local\\programs\\python\\python310\\lib\\site-packages)\n",
      "\n",
      "[notice] A new release of pip is available: 23.0.1 -> 23.3.2\n",
      "[notice] To update, run: python.exe -m pip install --upgrade pip\n"
     ]
    },
    {
     "name": "stdout",
     "output_type": "stream",
     "text": [
      "\n",
      "  Downloading pymongo-4.6.1-cp310-cp310-win_amd64.whl (472 kB)\n",
      "     ---------------------------------------- 0.0/472.7 kB ? eta -:--:--\n",
      "     --- --------------------------------- 41.0/472.7 kB 667.8 kB/s eta 0:00:01\n",
      "     --------- ---------------------------- 122.9/472.7 kB 1.2 MB/s eta 0:00:01\n",
      "     ------------- ------------------------ 174.1/472.7 kB 1.3 MB/s eta 0:00:01\n",
      "     -------------------- ----------------- 256.0/472.7 kB 1.2 MB/s eta 0:00:01\n",
      "     -------------------------------- ----- 409.6/472.7 kB 1.3 MB/s eta 0:00:01\n",
      "     -------------------------------------  471.0/472.7 kB 1.3 MB/s eta 0:00:01\n",
      "     -------------------------------------- 472.7/472.7 kB 1.1 MB/s eta 0:00:00\n",
      "Collecting dnspython<3.0.0,>=1.16.0\n",
      "  Downloading dnspython-2.5.0-py3-none-any.whl (305 kB)\n",
      "     ---------------------------------------- 0.0/305.4 kB ? eta -:--:--\n",
      "     ------- ------------------------------- 61.4/305.4 kB 1.7 MB/s eta 0:00:01\n",
      "     ------------------------ ------------- 194.6/305.4 kB 2.0 MB/s eta 0:00:01\n",
      "     ----------------------------------- -- 286.7/305.4 kB 2.0 MB/s eta 0:00:01\n",
      "     -------------------------------------- 305.4/305.4 kB 1.6 MB/s eta 0:00:00\n",
      "Installing collected packages: dnspython, pymongo\n",
      "Successfully installed dnspython-2.5.0 pymongo-4.6.1\n"
     ]
    }
   ],
   "source": [
    "!pip install pymongo"
   ]
  },
  {
   "cell_type": "code",
   "execution_count": 10,
   "id": "d064cf2c",
   "metadata": {
    "collapsed": true
   },
   "outputs": [
    {
     "name": "stdout",
     "output_type": "stream",
     "text": [
      "Requirement already satisfied: pymongo[srv] in c:\\users\\hp\\appdata\\local\\programs\\python\\python310\\lib\\site-packages (4.6.1)"
     ]
    },
    {
     "name": "stderr",
     "output_type": "stream",
     "text": [
      "WARNING: Ignoring invalid distribution -rotobuf (c:\\users\\hp\\appdata\\local\\programs\\python\\python310\\lib\\site-packages)\n",
      "WARNING: Ignoring invalid distribution -rotobuf (c:\\users\\hp\\appdata\\local\\programs\\python\\python310\\lib\\site-packages)\n",
      "WARNING: Ignoring invalid distribution -rotobuf (c:\\users\\hp\\appdata\\local\\programs\\python\\python310\\lib\\site-packages)\n",
      "WARNING: Ignoring invalid distribution -rotobuf (c:\\users\\hp\\appdata\\local\\programs\\python\\python310\\lib\\site-packages)\n",
      "WARNING: Ignoring invalid distribution -rotobuf (c:\\users\\hp\\appdata\\local\\programs\\python\\python310\\lib\\site-packages)\n",
      "WARNING: Ignoring invalid distribution -rotobuf (c:\\users\\hp\\appdata\\local\\programs\\python\\python310\\lib\\site-packages)\n",
      "\n",
      "[notice] A new release of pip is available: 23.0.1 -> 23.3.2\n",
      "[notice] To update, run: python.exe -m pip install --upgrade pip\n"
     ]
    },
    {
     "name": "stdout",
     "output_type": "stream",
     "text": [
      "\n",
      "Requirement already satisfied: dnspython<3.0.0,>=1.16.0 in c:\\users\\hp\\appdata\\local\\programs\\python\\python310\\lib\\site-packages (from pymongo[srv]) (2.5.0)\n"
     ]
    }
   ],
   "source": [
    "!pip install pymongo[srv]"
   ]
  },
  {
   "cell_type": "markdown",
   "id": "a8e1a740",
   "metadata": {},
   "source": [
    "## Modifying insert data"
   ]
  },
  {
   "cell_type": "code",
   "execution_count": 4,
   "id": "36957a74",
   "metadata": {},
   "outputs": [],
   "source": [
    "import pymongo\n",
    "from pymongo import MongoClient\n",
    "from pymongo.mongo_client import MongoClient\n",
    "from typing import Any\n",
    "\n",
    "import termcolor\n",
    "\n",
    "from pymongo.database import Database # used in create collection function\n",
    "from pymongo.collection import Collection"
   ]
  },
  {
   "cell_type": "code",
   "execution_count": 5,
   "id": "4478cf9d",
   "metadata": {},
   "outputs": [],
   "source": [
    "def get_mongo_client(uri):\n",
    "    try:\n",
    "        client=MongoClient(uri)\n",
    "        client.admin.command('ismaster')\n",
    "        client.server_info()\n",
    "        termcolor.cprint(\"Connected to MongoDB Successfully....\",'green',attrs=['bold'])\n",
    "        return client\n",
    "    except Exception as e:\n",
    "        termcolor.cprint(\"Error during connection:\",\"red\", attrs=['bold'], end=' ')\n",
    "        print(e)"
   ]
  },
  {
   "cell_type": "code",
   "execution_count": 6,
   "id": "9281ece3",
   "metadata": {},
   "outputs": [],
   "source": [
    "def close_mongo_client(client):\n",
    "    \n",
    "    if isinstance(client, MongoClient)==False:\n",
    "        print('The object is not a MongoDB client')\n",
    "        return \n",
    "    \n",
    "    try:\n",
    "        result=client.admin.command('ismaster')\n",
    "        primary=result.get('ismaster')==True\n",
    "        secondary=result.get('ismaster')==False\n",
    "        if primary or secondary or client:\n",
    "            client.close()  # This is close of client\n",
    "            termcolor.cprint(\"MongoDB client closed successfully..\",'magenta',attrs=['bold'])\n",
    "        else:\n",
    "            termcolor.cprint(\"MongoDB client is already closed or not provided.\",'dark_grey',attrs=['bold'])\n",
    "\n",
    "    except Exception as e:\n",
    "        if str(e)=='Cannot use MongoClient after close':\n",
    "            termcolor.cprint(\"MongoDB client is already closed.\",'dark_grey',attrs=['bold'])\n",
    "        else:\n",
    "            termcolor.cprint(\"Error closing MongoDB client:\",\"red\", attrs=['bold'], end=' ')\n",
    "            print(e) "
   ]
  },
  {
   "cell_type": "code",
   "execution_count": 15,
   "id": "42acfd22",
   "metadata": {},
   "outputs": [],
   "source": [
    "## Creating client"
   ]
  },
  {
   "cell_type": "code",
   "execution_count": 7,
   "id": "351c03b0",
   "metadata": {},
   "outputs": [
    {
     "name": "stdout",
     "output_type": "stream",
     "text": [
      "\u001b[1m\u001b[32mConnected to MongoDB Successfully....\u001b[0m\n"
     ]
    }
   ],
   "source": [
    "uri = \"localhost:27017\"\n",
    "client=get_mongo_client(uri)"
   ]
  },
  {
   "cell_type": "code",
   "execution_count": 21,
   "id": "a3960f08",
   "metadata": {},
   "outputs": [],
   "source": [
    "### Closing client"
   ]
  },
  {
   "cell_type": "code",
   "execution_count": 25,
   "id": "577c537a",
   "metadata": {},
   "outputs": [
    {
     "name": "stdout",
     "output_type": "stream",
     "text": [
      "\u001b[1m\u001b[90mMongoDB client is already closed\u001b[0m\n"
     ]
    }
   ],
   "source": [
    "close_mongo_client(client)"
   ]
  },
  {
   "cell_type": "code",
   "execution_count": 7,
   "id": "7eaffbbf",
   "metadata": {},
   "outputs": [
    {
     "data": {
      "text/plain": [
       "MongoClient(host=['localhost:27017'], document_class=dict, tz_aware=False, connect=True)"
      ]
     },
     "execution_count": 7,
     "metadata": {},
     "output_type": "execute_result"
    }
   ],
   "source": [
    "client"
   ]
  },
  {
   "cell_type": "code",
   "execution_count": 8,
   "id": "1cdb2f00",
   "metadata": {},
   "outputs": [],
   "source": [
    "def create_database(client, database_name):\n",
    "    \n",
    "    if isinstance(client, MongoClient)==False:\n",
    "        print('The object is not a MongoDB client')\n",
    "        return \n",
    "    try:\n",
    "        data_base=client[database_name]\n",
    "        termcolor.cprint(\"Database created successfully....\",'green',attrs=['bold'])\n",
    "        return data_base\n",
    "    except Exception as e:\n",
    "        termcolor.cprint(\"Error creating the database:\",\"red\", attrs=['bold'], end=' ')\n",
    "        print(e) "
   ]
  },
  {
   "cell_type": "code",
   "execution_count": 9,
   "id": "5d69e210",
   "metadata": {},
   "outputs": [
    {
     "name": "stdout",
     "output_type": "stream",
     "text": [
      "\u001b[1m\u001b[32mDatabase created successfully....\u001b[0m\n"
     ]
    }
   ],
   "source": [
    "database_name=\"fist1\"\n",
    "database=create_database(client, database_name)"
   ]
  },
  {
   "cell_type": "code",
   "execution_count": 9,
   "id": "2e3c1ca5",
   "metadata": {},
   "outputs": [
    {
     "data": {
      "text/plain": [
       "Database(MongoClient(host=['localhost:27017'], document_class=dict, tz_aware=False, connect=True), 'fist1')"
      ]
     },
     "execution_count": 9,
     "metadata": {},
     "output_type": "execute_result"
    }
   ],
   "source": [
    "database"
   ]
  },
  {
   "cell_type": "code",
   "execution_count": 11,
   "id": "335a1412",
   "metadata": {},
   "outputs": [],
   "source": [
    "def create_collection(database, collection_name):\n",
    "    if isinstance(database, Database)==False:\n",
    "        print(\"The object is not a database\")\n",
    "        return\n",
    "    try:\n",
    "        collection=database[collection_name]\n",
    "        termcolor.cprint(\"Collection created successfully....\",'green',attrs=['bold'])\n",
    "        return collection\n",
    "    except Exception as e:\n",
    "        termcolor.cprint(\"Error creating the collection:\",\"red\", attrs=['bold'], end=' ')\n",
    "        print(e)         "
   ]
  },
  {
   "cell_type": "code",
   "execution_count": 12,
   "id": "fab76ae2",
   "metadata": {},
   "outputs": [
    {
     "name": "stdout",
     "output_type": "stream",
     "text": [
      "\u001b[1m\u001b[32mCollection created successfully....\u001b[0m\n"
     ]
    }
   ],
   "source": [
    "collection_name = \"colfist1\"\n",
    "collection=create_collection(database, collection_name)"
   ]
  },
  {
   "cell_type": "code",
   "execution_count": 34,
   "id": "a21eb579",
   "metadata": {},
   "outputs": [
    {
     "data": {
      "text/plain": [
       "Collection(Database(MongoClient(host=['localhost:27017'], document_class=dict, tz_aware=False, connect=True), 'fist1'), 'colfist1')"
      ]
     },
     "execution_count": 34,
     "metadata": {},
     "output_type": "execute_result"
    }
   ],
   "source": [
    "collection"
   ]
  },
  {
   "cell_type": "code",
   "execution_count": 13,
   "id": "cf851453",
   "metadata": {},
   "outputs": [
    {
     "data": {
      "text/plain": [
       "[{'_id': ObjectId('65b2956ab83af4e134e6984d'),\n",
       "  'name': 'Abhishek Verma',\n",
       "  'age': 55,\n",
       "  'city': 'New York'},\n",
       " {'_id': ObjectId('65b357d2a06d2e3de1314856'),\n",
       "  'name': 'Abhishek Verma',\n",
       "  'age': 55,\n",
       "  'city': 'New York'},\n",
       " {'_id': ObjectId('65b8be4b1ed3ba873bb13f64'),\n",
       "  'name': 'Abhishek Verma',\n",
       "  'age': 68,\n",
       "  'city': 'New York'},\n",
       " {'_id': ObjectId('65b8c03e1ed3ba873bb13f66'),\n",
       "  'name': 'Abhishek Verma',\n",
       "  'age': 68,\n",
       "  'city': 'New jersy'},\n",
       " {'_id': ObjectId('65ba0e7bd907c3a471088a7e'),\n",
       "  'name': 'Vishal Verma',\n",
       "  'age': 28,\n",
       "  'city': 'New York'},\n",
       " {'_id': ObjectId('65ba1a31d907c3a471088a81'),\n",
       "  'name': 'Vishal Verma',\n",
       "  'age': 15,\n",
       "  'city': 'New York'},\n",
       " {'_id': ObjectId('65ba2b83eab9e3b26754a986'),\n",
       "  'name': 'Vishal Verma',\n",
       "  'age': 1008,\n",
       "  'city': 'New York'},\n",
       " {'_id': ObjectId('65ba2e22eab9e3b26754a98a'),\n",
       "  'name': 'Vishal Verma',\n",
       "  'age': 1008,\n",
       "  'city': 'New York'},\n",
       " {'_id': ObjectId('65ba2f1beab9e3b26754a98e'),\n",
       "  'name': 'Vishal Verma',\n",
       "  'age': 508,\n",
       "  'city': 'New York'},\n",
       " {'_id': ObjectId('65ba33bfeab9e3b26754a990'),\n",
       "  'name': 'Vishal Verma',\n",
       "  'age': 5898,\n",
       "  'city': 'New York'},\n",
       " {'_id': ObjectId('65ba41b9eab9e3b26754a993'),\n",
       "  'name': 'Vishal Verma',\n",
       "  'age': 25,\n",
       "  'city': 'New York'}]"
      ]
     },
     "execution_count": 13,
     "metadata": {},
     "output_type": "execute_result"
    }
   ],
   "source": [
    "list(collection.find())"
   ]
  },
  {
   "cell_type": "code",
   "execution_count": 11,
   "id": "18c5f88c",
   "metadata": {},
   "outputs": [
    {
     "data": {
      "text/plain": [
       "[{'_id': ObjectId('65b2956ab83af4e134e6984d'),\n",
       "  'name': 'Abhishek Verma',\n",
       "  'age': 55,\n",
       "  'city': 'New York'},\n",
       " {'_id': ObjectId('65b357d2a06d2e3de1314856'),\n",
       "  'name': 'Abhishek Verma',\n",
       "  'age': 55,\n",
       "  'city': 'New York'},\n",
       " {'_id': ObjectId('65b8be4b1ed3ba873bb13f64'),\n",
       "  'name': 'Abhishek Verma',\n",
       "  'age': 68,\n",
       "  'city': 'New York'},\n",
       " {'_id': ObjectId('65b8c03e1ed3ba873bb13f66'),\n",
       "  'name': 'Abhishek Verma',\n",
       "  'age': 68,\n",
       "  'city': 'New jersy'},\n",
       " {'_id': ObjectId('65ba0e7bd907c3a471088a7e'),\n",
       "  'name': 'Vishal Verma',\n",
       "  'age': 28,\n",
       "  'city': 'New York'},\n",
       " {'_id': ObjectId('65ba1a31d907c3a471088a81'),\n",
       "  'name': 'Vishal Verma',\n",
       "  'age': 18,\n",
       "  'city': 'New York'},\n",
       " {'_id': ObjectId('65ba2b83eab9e3b26754a986'),\n",
       "  'name': 'Vishal Verma',\n",
       "  'age': 1008,\n",
       "  'city': 'New York'},\n",
       " {'_id': ObjectId('65ba2e22eab9e3b26754a98a'),\n",
       "  'name': 'Vishal Verma',\n",
       "  'age': 1008,\n",
       "  'city': 'New York'},\n",
       " {'_id': ObjectId('65ba2f1beab9e3b26754a98e'),\n",
       "  'name': 'Vishal Verma',\n",
       "  'age': 508,\n",
       "  'city': 'New York'},\n",
       " {'_id': ObjectId('65ba33bfeab9e3b26754a990'),\n",
       "  'name': 'Vishal Verma',\n",
       "  'age': 5898,\n",
       "  'city': 'New York'},\n",
       " {'_id': ObjectId('65ba41b9eab9e3b26754a993'),\n",
       "  'name': 'Vishal Verma',\n",
       "  'age': 25,\n",
       "  'city': 'New York'}]"
      ]
     },
     "execution_count": 11,
     "metadata": {},
     "output_type": "execute_result"
    }
   ],
   "source": [
    "item_details=collection.find()\n",
    "item_list=[]\n",
    "for item in item_details:\n",
    "    item_list.append(item)\n",
    "item_list"
   ]
  },
  {
   "cell_type": "code",
   "execution_count": 14,
   "id": "66abf55a",
   "metadata": {},
   "outputs": [
    {
     "name": "stdout",
     "output_type": "stream",
     "text": [
      "JSON file \"tput.json\" has been created.\n"
     ]
    },
    {
     "name": "stderr",
     "output_type": "stream",
     "text": [
      "C:\\Users\\hp\\AppData\\Local\\Temp\\ipykernel_2136\\3249992079.py:2: DeprecationWarning: \n",
      "Pyarrow will become a required dependency of pandas in the next major release of pandas (pandas 3.0),\n",
      "(to allow more performant data types, such as the Arrow string type, and better interoperability with other libraries)\n",
      "but was not found to be installed on your system.\n",
      "If this would cause problems for you,\n",
      "please provide us feedback at https://github.com/pandas-dev/pandas/issues/54466\n",
      "        \n",
      "  import pandas as pd\n"
     ]
    }
   ],
   "source": [
    "import csv\n",
    "import pandas as pd\n",
    "def save_data(collection):\n",
    "    item_details=collection.find()\n",
    "    item_list=[]\n",
    "    for item in item_details:\n",
    "        item_list.append(item)\n",
    "        \n",
    "    header = list(item_list[0].keys()) \n",
    "    csv_file = input(\"Enter the filename: \")\n",
    "    with open(csv_file, 'w', newline='') as csvfile:\n",
    "        writer = csv.DictWriter(csvfile, fieldnames=header)\n",
    "        # Write the header\n",
    "        writer.writeheader()\n",
    "        # Write the data\n",
    "        for row in item_list:\n",
    "            writer.writerow(row)\n",
    "    \n",
    "    df = pd.DataFrame(item_list)\n",
    "    # Write the DataFrame to an Excel file\n",
    "    excel_file='sqd.xlsx'\n",
    "    df.to_excel(excel_file, sheet_name='sheet_name', index=False)\n",
    "    df.to_csv(csv_file)\n",
    "    \n",
    "    print(header)\n",
    "    return item_list  \n",
    "    \n",
    "import json\n",
    "from bson import ObjectId\n",
    "def convert_to_serializable(obj):\n",
    "    \"\"\"Convert MongoDB document to JSON serializable format.\"\"\"\n",
    "    if isinstance(obj, ObjectId):\n",
    "        return str(obj)\n",
    "    return obj\n",
    "\n",
    "def save_mongodb_collection_as_json(collection, json_file):\n",
    "    \"\"\"Save MongoDB collection as JSON file.\"\"\"\n",
    "    data = list(collection.find())  # Assuming 'collection' is a MongoDB collection\n",
    "    serialized_data = json.dumps(data, default=convert_to_serializable, indent=2)\n",
    "\n",
    "    with open(json_file, 'w') as jsonfile:\n",
    "        jsonfile.write(serialized_data)\n",
    "\n",
    "    print(f'JSON file \"{json_file}\" has been created.')\n",
    "\n",
    "# Example usage:\n",
    "# Assuming 'your_collection' is your MongoDB collection\n",
    "# and 'output.json' is the desired JSON file\n",
    "save_mongodb_collection_as_json(collection, 'tput.json')\n",
    "\n"
   ]
  },
  {
   "cell_type": "code",
   "execution_count": 15,
   "id": "51819705",
   "metadata": {},
   "outputs": [],
   "source": [
    "import json\n",
    "from bson import ObjectId  # Make sure to import ObjectId from bson\n",
    "\n",
    "save_data(collection)"
   ]
  },
  {
   "cell_type": "code",
   "execution_count": null,
   "id": "b08eead4",
   "metadata": {},
   "outputs": [],
   "source": []
  },
  {
   "cell_type": "code",
   "execution_count": null,
   "id": "03323dab",
   "metadata": {},
   "outputs": [],
   "source": []
  },
  {
   "cell_type": "code",
   "execution_count": 13,
   "id": "f18fc4fc",
   "metadata": {},
   "outputs": [],
   "source": [
    "def insert_data(collection,data):  \n",
    "    if isinstance(collection, Collection)==False:\n",
    "        print(\"The object is not a collection\")\n",
    "        return\n",
    "\n",
    "    try:\n",
    "        if type(data) == dict:\n",
    "            collection.insert_one(data)\n",
    "            print(\"One entry inserted\")\n",
    "        elif type(data) ==list:\n",
    "            for i,entry in enumerate(data):\n",
    "                if type(entry) != dict:\n",
    "                    dtype=str(type(entry)).split(\"'\")[1]\n",
    "                    raise Exception(f\"Data is not in correct format. \\nData type at index {i} of list is '{dtype}', but the entries inside the 'list' should be 'dict' type.\")\n",
    "            collection.insert_many(data)\n",
    "            print(\"Data inserted in collection\")\n",
    "        else:\n",
    "            dtype=str(type(data)).split(\"'\")[1]\n",
    "            raise Exception(f\"Data is not in correct format. \\nThe data type of argument 'data' is '{dtype}', but argument 'data' should pass as 'list' or 'dict' type.\")\n",
    "    except Exception as e:\n",
    "        termcolor.cprint(\"Error inserting the entry:\",\"red\", attrs=['bold'], end=' ')\n",
    "        print(e)         "
   ]
  },
  {
   "cell_type": "code",
   "execution_count": 44,
   "id": "2c2debe7",
   "metadata": {},
   "outputs": [],
   "source": [
    "from bson import SON, raw_bson\n",
    "from collections.abc import MutableMapping\n",
    "def insert_data(collection,data):  \n",
    "    if isinstance(collection, Collection)==False:\n",
    "        print(\"The object is not a collection\")\n",
    "        return\n",
    "\n",
    "    try:\n",
    "        if type(data) != list:\n",
    "            if not isinstance(data, (dict, SON, raw_bson.RawBSONDocument, MutableMapping)):\n",
    "                raise Exception(\"Errrrrrr\")\n",
    "        \n",
    "        if type(data) == dict:\n",
    "            collection.insert_one(data)\n",
    "            termcolor.cprint(\"One entry inserted successfully....\",'green',attrs=['bold'])\n",
    "        elif type(data) ==list:\n",
    "            for i,entry in enumerate(data):\n",
    "                if type(entry) != dict:\n",
    "                    dtype=str(type(entry)).split(\"'\")[1]\n",
    "                    raise Exception(f\"Data is not in correct format. \\nData type at index {i} of list is '{dtype}', but the entries inside the 'list' should be 'dict' type.\")\n",
    "            collection.insert_many(data)\n",
    "            termcolor.cprint(\"Data inserted in collection successfully....\",'green',attrs=['bold'])\n",
    "        else:\n",
    "            dtype=str(type(data)).split(\"'\")[1]\n",
    "            raise Exception(f\"Data is not in correct format. \\nThe data type of argument 'data' is '{dtype}', but argument 'data' should pass as 'list' or 'dict' type.\")\n",
    "    except Exception as e:\n",
    "        termcolor.cprint(\"Error inserting the entry:\",\"red\", attrs=['bold'], end=' ')\n",
    "        print(e)         "
   ]
  },
  {
   "cell_type": "code",
   "execution_count": 45,
   "id": "7322f0d6",
   "metadata": {},
   "outputs": [
    {
     "name": "stdout",
     "output_type": "stream",
     "text": [
      "\u001b[1m\u001b[32mOne entry inserted successfully....\u001b[0m\n"
     ]
    }
   ],
   "source": [
    "data={\"name\": \"Abhishek Verma\", \"age\": 8, \"city\": \"New York\"}\n",
    "insert_data(collection,data)"
   ]
  },
  {
   "cell_type": "code",
   "execution_count": 46,
   "id": "4b8fcf0a",
   "metadata": {},
   "outputs": [],
   "source": [
    "from collections.abc import MutableMapping\n",
    "from bson import SON, raw_bson"
   ]
  },
  {
   "cell_type": "code",
   "execution_count": 50,
   "id": "458417aa",
   "metadata": {},
   "outputs": [],
   "source": [
    "# data = [{\"name\": \"Abhishek Verma\", \"age\": 58, \"city\": \"New York\"},\"hdgy\"]\n",
    "data = [{\"name\": \"Abhishek Verma\", \"age\": 68, \"city\": \"New jersy\"}]\n"
   ]
  },
  {
   "cell_type": "code",
   "execution_count": 51,
   "id": "8fcfb44b",
   "metadata": {},
   "outputs": [
    {
     "name": "stdout",
     "output_type": "stream",
     "text": [
      "\u001b[1m\u001b[32mData inserted in collection successfully....\u001b[0m\n"
     ]
    }
   ],
   "source": [
    "insert_data(collection,data)"
   ]
  },
  {
   "cell_type": "code",
   "execution_count": 52,
   "id": "2035370d",
   "metadata": {},
   "outputs": [],
   "source": [
    "import pandas as pd"
   ]
  },
  {
   "cell_type": "code",
   "execution_count": 21,
   "id": "8cf7c72e",
   "metadata": {},
   "outputs": [],
   "source": [
    "def find_data(collection, key_value=\"\"):\n",
    "    if isinstance(collection, Collection)==False:\n",
    "        print(\"The object is not a collection\")\n",
    "        return\n",
    "    \n",
    "    try:    \n",
    "        if key_value == \"\":\n",
    "            item_details=collection.find()\n",
    "\n",
    "        else:\n",
    "            item_details=collection.find(key_value)\n",
    "        \n",
    "        item_list=[]\n",
    "        for item in item_details:\n",
    "            item_list.append(item)\n",
    "        \n",
    "        if len(item_list) != 0:\n",
    "            flag=input(\"Do you want to print the data as a dataframe(y/n): \").lower()\n",
    "            if flag=='y':\n",
    "                df=pd.DataFrame(item_list)\n",
    "                return df\n",
    "            return item_list\n",
    "        else:\n",
    "            termcolor.cprint(\"Unable to fetch the data..\", 'dark_grey', attrs=['bold'])\n",
    "    except Exception as e:\n",
    "        termcolor.cprint(\"Error finding the data:\",\"red\", attrs=['bold'], end=' ')\n",
    "        print(e)         "
   ]
  },
  {
   "cell_type": "code",
   "execution_count": 25,
   "id": "c939bc18",
   "metadata": {},
   "outputs": [
    {
     "data": {
      "text/plain": [
       "<pymongo.cursor.Cursor at 0x1fe4468e230>"
      ]
     },
     "execution_count": 25,
     "metadata": {},
     "output_type": "execute_result"
    }
   ],
   "source": [
    "key_value={\"age\":18}\n",
    "collection.find()"
   ]
  },
  {
   "cell_type": "code",
   "execution_count": 26,
   "id": "dcd0680a",
   "metadata": {},
   "outputs": [
    {
     "name": "stdout",
     "output_type": "stream",
     "text": [
      "Do you want to print the data as a dataframe(y/n): y\n"
     ]
    },
    {
     "data": {
      "text/html": [
       "<div>\n",
       "<style scoped>\n",
       "    .dataframe tbody tr th:only-of-type {\n",
       "        vertical-align: middle;\n",
       "    }\n",
       "\n",
       "    .dataframe tbody tr th {\n",
       "        vertical-align: top;\n",
       "    }\n",
       "\n",
       "    .dataframe thead th {\n",
       "        text-align: right;\n",
       "    }\n",
       "</style>\n",
       "<table border=\"1\" class=\"dataframe\">\n",
       "  <thead>\n",
       "    <tr style=\"text-align: right;\">\n",
       "      <th></th>\n",
       "      <th>_id</th>\n",
       "      <th>name</th>\n",
       "      <th>age</th>\n",
       "      <th>city</th>\n",
       "    </tr>\n",
       "  </thead>\n",
       "  <tbody>\n",
       "    <tr>\n",
       "      <th>0</th>\n",
       "      <td>65ba1a31d907c3a471088a81</td>\n",
       "      <td>Vishal Verma</td>\n",
       "      <td>18</td>\n",
       "      <td>New York</td>\n",
       "    </tr>\n",
       "  </tbody>\n",
       "</table>\n",
       "</div>"
      ],
      "text/plain": [
       "                        _id          name  age      city\n",
       "0  65ba1a31d907c3a471088a81  Vishal Verma   18  New York"
      ]
     },
     "execution_count": 26,
     "metadata": {},
     "output_type": "execute_result"
    }
   ],
   "source": [
    "import pandas as pd\n",
    "find_data(collection, key_value)"
   ]
  },
  {
   "cell_type": "code",
   "execution_count": 29,
   "id": "57016454",
   "metadata": {},
   "outputs": [
    {
     "data": {
      "text/plain": [
       "[{'_id': ObjectId('65ba1a31d907c3a471088a81'),\n",
       "  'name': 'Vishal Verma',\n",
       "  'age': 18,\n",
       "  'city': 'New York'}]"
      ]
     },
     "execution_count": 29,
     "metadata": {},
     "output_type": "execute_result"
    }
   ],
   "source": [
    "list(collection.find(key_value))"
   ]
  },
  {
   "cell_type": "code",
   "execution_count": 64,
   "id": "d04e8e80",
   "metadata": {},
   "outputs": [
    {
     "name": "stdout",
     "output_type": "stream",
     "text": [
      "\u001b[1m\u001b[90mUnable to fetch the data..\u001b[0m\n"
     ]
    }
   ],
   "source": [
    "# key_value=[{'name': 'Vivek Kumar', \"age\":30}]\n",
    "key_value={'name': 'Vivek Kumar', \"age\":30}\n",
    "find_data(collection, key_value)"
   ]
  },
  {
   "cell_type": "code",
   "execution_count": 77,
   "id": "e8e4d2a9",
   "metadata": {},
   "outputs": [
    {
     "name": "stdout",
     "output_type": "stream",
     "text": [
      "{'_id': ObjectId('65b2908f137bc1c042edd67c'), 'name': 'Vivek Singh', 'age': 55, 'city': 'New York', 'ag': 55}\n",
      "{'_id': ObjectId('65b2956ab83af4e134e6984d'), 'name': 'Abhishek Verma', 'age': 55, 'city': 'New York'}\n",
      "{'_id': ObjectId('65b357d2a06d2e3de1314856'), 'name': 'Abhishek Verma', 'age': 58, 'city': 'New York'}\n",
      "{'_id': ObjectId('65b8be4b1ed3ba873bb13f64'), 'name': 'Abhishek Verma', 'age': 68, 'city': 'New York'}\n",
      "{'_id': ObjectId('65b8c03e1ed3ba873bb13f66'), 'name': 'Abhishek Verma', 'age': 68, 'city': 'New jersy'}\n"
     ]
    }
   ],
   "source": [
    "item_list=[]\n",
    "item_details = collection.find()\n",
    "for item in item_details:\n",
    "    item_list.append(item)\n",
    "    print(item)"
   ]
  },
  {
   "cell_type": "code",
   "execution_count": 22,
   "id": "c54321f5",
   "metadata": {},
   "outputs": [],
   "source": []
  },
  {
   "cell_type": "code",
   "execution_count": 71,
   "id": "1482a23f",
   "metadata": {},
   "outputs": [],
   "source": [
    "def delete_data(collection, key_value=\"\"):\n",
    "    if isinstance(collection, Collection)==False:\n",
    "        print(\"The object is not a collection\")\n",
    "        return\n",
    "    try:\n",
    "        if key_value==\"\":\n",
    "            flag=input(\"It will delete entire data, Do you want to delete the data?(y/n): \").lower()\n",
    "            if flag=='y':\n",
    "                collection.delete_many({})\n",
    "                print(\"All entry deleted\")\n",
    "                return\n",
    "            \n",
    "            else:\n",
    "                print(\"Nothing deleted\")\n",
    "                return \n",
    "            \n",
    "        else:\n",
    "            item_list=[]\n",
    "            item_details = collection.find(key_value)\n",
    "            for item in item_details:\n",
    "                item_list.append(item)\n",
    "            if len(item_list)==0:\n",
    "                termcolor.cprint(\"Entry doesn't exists of given detail.\", 'dark_grey', attrs=['bold'])\n",
    "                return\n",
    "            \n",
    "            flag=input(\"Do you want delete the one entry or mutiple entries?(one/many) \").lower()\n",
    "            \n",
    "            if flag=='one':\n",
    "                collection.delete_one(key_value)\n",
    "                termcolor.cprint(\"Entry deleted successfully \",\"green\", attrs=['bold'], end=' ')\n",
    "                \n",
    "            elif flag=='many':\n",
    "                collection.delete_many(key_value)\n",
    "                termcolor.cprint(\"Multiple entries deleted successfully \",\"green\", attrs=['bold'], end=' ')\n",
    "            else:\n",
    "                termcolor.cprint(\"Incorrect option\", \"red\", attrs=['bold'])\n",
    "            \n",
    "    except Exception as e:\n",
    "        termcolor.cprint(\"Error deleting the data:\",\"red\", attrs=['bold'], end=' ')\n",
    "        print(e)         "
   ]
  },
  {
   "cell_type": "code",
   "execution_count": 72,
   "id": "2356892a",
   "metadata": {},
   "outputs": [
    {
     "name": "stdout",
     "output_type": "stream",
     "text": [
      "\u001b[1m\u001b[90mEntry doesn't exists of given detail.\u001b[0m\n"
     ]
    }
   ],
   "source": [
    "w={'age':8}\n",
    "delete_data(collection,w)"
   ]
  },
  {
   "cell_type": "code",
   "execution_count": 73,
   "id": "d6057a9c",
   "metadata": {},
   "outputs": [],
   "source": [
    "def update_data_entry(collection, filter_criteria, update_data):\n",
    "    if isinstance(collection, Collection)==False:\n",
    "        print(\"The object is not a collection\")\n",
    "        return\n",
    "    try:\n",
    "        flag=input(\"Do you want single entry update on multiple?(one/many) \").lower()\n",
    "        if flag=='one':    \n",
    "            collection.update_one(filter_criteria, update_data)  \n",
    "            termcolor.cprint(\"Updated Successfully one entry\",\"green\", attrs=['bold'], end=' ')\n",
    "        elif flag=='many':\n",
    "            collection.update_many(filter_criteria, update_data)\n",
    "            termcolor.cprint(\"Updated Successfully multiple entries\",\"green\", attrs=['bold'], end=' ')\n",
    "        else:\n",
    "            raise Exception(\"Invalid input\")\n",
    "    except Exception as e:\n",
    "        termcolor.cprint(\"Error updating the data:\",\"red\", attrs=['bold'], end=' ')\n",
    "        print(e) "
   ]
  },
  {
   "cell_type": "code",
   "execution_count": 75,
   "id": "b703e5b6",
   "metadata": {},
   "outputs": [],
   "source": [
    "filter_criteria = {'age': 58}\n",
    "update_data = [{'$set': {'age': 55}}]\n",
    "# collection.update_one(filter_criteria, update_data)"
   ]
  },
  {
   "cell_type": "code",
   "execution_count": 76,
   "id": "7b73705e",
   "metadata": {},
   "outputs": [
    {
     "name": "stdout",
     "output_type": "stream",
     "text": [
      "Do you want single entry update on multiple?(one/many) one\n",
      "\u001b[1m\u001b[32mUpdated Successfully one entry\u001b[0m "
     ]
    }
   ],
   "source": [
    "update_data_entry(collection, filter_criteria, update_data)"
   ]
  },
  {
   "cell_type": "code",
   "execution_count": null,
   "id": "72a40c5c",
   "metadata": {},
   "outputs": [],
   "source": [
    "import pymongo\n",
    "from pymongo import MongoClient\n",
    "\n",
    "# Connect to MongoDB\n",
    "client = MongoClient('mongodb://localhost:27017/')  # Update the connection string as needed\n",
    "db = client['your_database_name']  # Replace 'your_database_name' with your actual database name\n",
    "collection = db['your_collection_name']  # Replace 'your_collection_name' with your actual collection name\n",
    "\n",
    "# Example update operation\n",
    "filter_criteria = {'field_to_match': 'value_to_match'}\n",
    "update_data = {'$set': {'field_to_update': 'new_value'}}\n",
    "result = collection.update_one(filter_criteria, update_data)\n",
    "\n",
    "# Print the result\n",
    "print(f'Matched {result.matched_count} document(s) and modified {result.modified_count} document(s).')\n",
    "\n",
    "# Close the connection\n",
    "client.close()\n"
   ]
  },
  {
   "cell_type": "code",
   "execution_count": 421,
   "id": "bc5734a5",
   "metadata": {},
   "outputs": [],
   "source": [
    "data = {\"name\": \"Vivek Singh\", \"age\": 50, \"city\": \"New York\"}\n",
    "result = collection.insert_one(data)"
   ]
  },
  {
   "cell_type": "code",
   "execution_count": null,
   "id": "b34239fa",
   "metadata": {},
   "outputs": [],
   "source": []
  },
  {
   "cell_type": "code",
   "execution_count": 8,
   "id": "518bbe00",
   "metadata": {},
   "outputs": [],
   "source": [
    "class mongo_operation:\n",
    "    __collection=None # here i have created a private/protected variable\n",
    "    __database=None\n",
    "    \n",
    "    def __init__(self,client_url: str, database_name: str, collection_name: str=None):\n",
    "        self.client_url=client_url\n",
    "        self.database_name=database_name\n",
    "        self.collection_name=collection_name\n",
    "       \n",
    "    def create_mongo_client(self,collection=None):\n",
    "        client=MongoClient(self.client_url)\n",
    "        return client\n",
    "    \n",
    "    def create_database(self,collection=None):\n",
    "        if mongo_operation.__database==None:\n",
    "            client=self.create_mongo_client(collection)\n",
    "            self.database=client[self.database_name]\n",
    "        return self.database \n",
    "    \n",
    "    def create_collection(self,collection=None):\n",
    "        if mongo_operation.__collection==None:\n",
    "            database=self.create_database(collection)\n",
    "            self.collection=database[self.collection_name]\n",
    "            mongo_operation.__collection=collection\n",
    "        \n",
    "        if mongo_operation.__collection!=collection:\n",
    "            database=self.create_database(collection)\n",
    "            self.collection=database[self.collection_name]\n",
    "            mongo_operation.__collection=collection\n",
    "            \n",
    "        return self.collection\n",
    "    \n",
    "    def insert_record(self,record: dict, collection_name: str) -> Any:\n",
    "        if type(record) == list:\n",
    "            for data in record:\n",
    "                if type(data) != dict:\n",
    "                    raise TypeError(\"record must be in the dict\")    \n",
    "            collection=self.create_collection(collection_name)\n",
    "            collection.insert_many(record)\n",
    "        elif type(record)==dict:\n",
    "            collection=self.create_collection(collection_name)\n",
    "            collection.insert_one(record)\n",
    "    \n",
    "    def bulk_insert(self,datafile,collection_name:str=None):\n",
    "        self.path=datafile\n",
    "        \n",
    "        if self.path.endswith('.csv'):\n",
    "            pd.read.csv(self.path,encoding='utf-8')\n",
    "            \n",
    "        elif self.path.endswith(\".xlsx\"):\n",
    "            dataframe=pd.read_excel(self.path,encoding='utf-8')\n",
    "            \n",
    "        datajson=json.loads(dataframe.to_json(orient='record'))\n",
    "        collection=self.create_collection()\n",
    "        collection.insert_many(datajson)"
   ]
  },
  {
   "cell_type": "code",
   "execution_count": 47,
   "id": "ebe17987",
   "metadata": {},
   "outputs": [
    {
     "name": "stdout",
     "output_type": "stream",
     "text": [
      "Data has been stored in output.json\n"
     ]
    }
   ],
   "source": [
    "import json\n",
    "\n",
    "# Your Python data (could be a dictionary, list, etc.)\n",
    "python_data = {\n",
    "    \"name\": \"John\",\n",
    "    \"age\": 30,\n",
    "    \"city\": \"New York\"\n",
    "}\n",
    "\n",
    "# Specify the file path where you want to store the JSON data\n",
    "file_path = \"output.json\"\n",
    "\n",
    "# Write the Python data to the JSON file\n",
    "with open(file_path, 'w') as json_file:\n",
    "    json.dump(python_data, json_file)\n",
    "\n",
    "print(f'Data has been stored in {file_path}')\n"
   ]
  },
  {
   "cell_type": "code",
   "execution_count": 48,
   "id": "09b18ba9",
   "metadata": {},
   "outputs": [
    {
     "name": "stdout",
     "output_type": "stream",
     "text": [
      "Data has been stored in output.csv\n"
     ]
    }
   ],
   "source": [
    "import csv\n",
    "\n",
    "# Your Python data (could be a list of dictionaries, a list of lists, etc.)\n",
    "python_data = [\n",
    "    {\"name\": \"John\", \"age\": 30, \"city\": \"New York\"},\n",
    "    {\"name\": \"Alice\", \"age\": 25, \"city\": \"London\"},\n",
    "    {\"name\": \"Bob\", \"age\": 35, \"city\": \"Paris\"}\n",
    "]\n",
    "\n",
    "# Specify the file path where you want to store the CSV data\n",
    "file_path = \"output.csv\"\n",
    "\n",
    "# Write the Python data to the CSV file\n",
    "with open(file_path, 'w', newline='') as csv_file:\n",
    "    # Create a CSV writer\n",
    "    csv_writer = csv.DictWriter(csv_file, fieldnames=python_data[0].keys())\n",
    "\n",
    "    # Write the header\n",
    "    csv_writer.writeheader()\n",
    "\n",
    "    # Write the data\n",
    "    csv_writer.writerows(python_data)\n",
    "\n",
    "print(f'Data has been stored in {file_path}')\n"
   ]
  },
  {
   "cell_type": "code",
   "execution_count": null,
   "id": "dea1c355",
   "metadata": {},
   "outputs": [],
   "source": []
  }
 ],
 "metadata": {
  "kernelspec": {
   "display_name": "Python 3 (ipykernel)",
   "language": "python",
   "name": "python3"
  },
  "language_info": {
   "codemirror_mode": {
    "name": "ipython",
    "version": 3
   },
   "file_extension": ".py",
   "mimetype": "text/x-python",
   "name": "python",
   "nbconvert_exporter": "python",
   "pygments_lexer": "ipython3",
   "version": "3.11.5"
  }
 },
 "nbformat": 4,
 "nbformat_minor": 5
}
