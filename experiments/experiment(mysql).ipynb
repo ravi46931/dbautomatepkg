{
 "cells": [
  {
   "cell_type": "markdown",
   "id": "bde95ffe",
   "metadata": {},
   "source": [
    "## Step by step Creation of the different functions"
   ]
  },
  {
   "cell_type": "markdown",
   "id": "39d3731c",
   "metadata": {},
   "source": [
    "### 1"
   ]
  },
  {
   "cell_type": "code",
   "execution_count": 1,
   "id": "68a640e6",
   "metadata": {},
   "outputs": [],
   "source": [
    "import termcolor\n",
    "import mysql.connector\n",
    "import time\n",
    "from prettytable import PrettyTable\n",
    "\n",
    "\n",
    "import csv\n",
    "import os"
   ]
  },
  {
   "cell_type": "code",
   "execution_count": 2,
   "id": "104d4466",
   "metadata": {},
   "outputs": [],
   "source": [
    "def connect_to_mysql(config, attempts=3, delay=2):\n",
    "    attempt = 1\n",
    "    # Implement a reconnection routine\n",
    "    while attempt < attempts + 1:\n",
    "        try:\n",
    "            no_dict=\"\"\n",
    "            if type(config)!= dict:\n",
    "                no_dict=\"Not dict type\"\n",
    "            connector=mysql.connector.connect(**config)\n",
    "            termcolor.cprint(\"Connected successfully....\",\"green\", attrs=['bold'], end='\\n')\n",
    "            return connector\n",
    "        except (mysql.connector.Error, IOError, Exception) as e:\n",
    "            if (attempts is attempt):\n",
    "                # Attempts to reconnect failed; returning None\n",
    "                termcolor.cprint(\"Failed to connect, exiting without a connection:\",\"red\", attrs=['bold'], end=' ')\n",
    "                print(e, no_dict)\n",
    "                return None\n",
    "            # progressive reconnect delay\n",
    "            time.sleep(delay ** attempt)\n",
    "            attempt += 1\n",
    "    return None\n"
   ]
  },
  {
   "cell_type": "code",
   "execution_count": 3,
   "id": "92174041",
   "metadata": {},
   "outputs": [
    {
     "name": "stdout",
     "output_type": "stream",
     "text": [
      "\u001b[1m\u001b[32mConnected successfully....\u001b[0m\n"
     ]
    }
   ],
   "source": [
    "config={\n",
    "    'host':'localhost',\n",
    "    'user':'root',\n",
    "    'password':'Ravi@46931',\n",
    "    'database':'firstsql'\n",
    "}\n",
    "\n",
    "## Connect to MySQL server\n",
    "conn=connect_to_mysql(config, attempts=3)"
   ]
  },
  {
   "cell_type": "code",
   "execution_count": 4,
   "id": "f883c557",
   "metadata": {},
   "outputs": [
    {
     "data": {
      "text/plain": [
       "<mysql.connector.connection_cext.CMySQLConnection at 0x15c1a916a40>"
      ]
     },
     "execution_count": 4,
     "metadata": {},
     "output_type": "execute_result"
    }
   ],
   "source": [
    "conn"
   ]
  },
  {
   "cell_type": "code",
   "execution_count": 5,
   "id": "891f8619",
   "metadata": {},
   "outputs": [],
   "source": [
    "def execute_query(connection, query):\n",
    "    # Verify that connection is MySQL connection object\n",
    "    if not isinstance(connection, mysql.connector.connection_cext.CMySQLConnection):\n",
    "        termcolor.cprint(\"Error Connection Object:\",\"red\", attrs=['bold'], end=' ')\n",
    "        print(\"Connection is not a MySQL connection object.\")\n",
    "        return\n",
    "    try:\n",
    "        cursor=connection.cursor()\n",
    "        cursor.execute(query)\n",
    "        try:\n",
    "            rows = cursor.fetchall()\n",
    "            column_names = [desc[0] for desc in cursor.description]\n",
    "            # Display results using PrettyTable\n",
    "            if rows:\n",
    "                table = PrettyTable(column_names)\n",
    "                table.align = 'l'\n",
    "                for row in rows:\n",
    "                    table.add_row(row)\n",
    "                termcolor.cprint(\"Query executed successfully....\",\"green\", attrs=['bold'], end='\\n')\n",
    "                print(table)\n",
    "            else:\n",
    "                termcolor.cprint(\"No results found.\",\"red\", attrs=['bold'], end=' ')\n",
    "                \n",
    "        except Exception as e:\n",
    "            termcolor.cprint(\"Query:\",\"green\", attrs=['bold'], end=' ')\n",
    "            termcolor.cprint(f\"\\\"{query}\\\"\",\"blue\", attrs=['bold'], end=' ')\n",
    "            termcolor.cprint(\"executed successfully.\",\"green\", attrs=['bold'], end=' ')\n",
    "            return\n",
    "    except Exception as e:\n",
    "        termcolor.cprint(\"Error executing query:\",\"red\", attrs=['bold'], end=' ')\n",
    "        print(e)"
   ]
  },
  {
   "cell_type": "code",
   "execution_count": 65,
   "id": "bfeacbe0",
   "metadata": {
    "scrolled": true
   },
   "outputs": [
    {
     "name": "stdout",
     "output_type": "stream",
     "text": [
      "\u001b[1m\u001b[32mQuery executed successfully....\u001b[0m\n",
      "+--------+------+\n",
      "| name   | age  |\n",
      "+--------+------+\n",
      "| JELLY  | 5    |\n",
      "| JEGH   | 3    |\n",
      "| KOGH   | 3    |\n",
      "| reu    | 5    |\n",
      "| xavior | 7    |\n",
      "| isil   | 8    |\n",
      "| lilly  | None |\n",
      "| None   | None |\n",
      "| JELLY  | 5    |\n",
      "| None   | 15   |\n",
      "| None   | None |\n",
      "| Raki   | 15   |\n",
      "| Jolly  | 35   |\n",
      "| Polly  | 25   |\n",
      "| Poll   | 23   |\n",
      "| Toll   | 2    |\n",
      "| Rakou  | 15   |\n",
      "| Rakou  | 15   |\n",
      "| Toying | 23   |\n",
      "| Kohl   | 2    |\n",
      "| Val    | 12   |\n",
      "| Kohl   | 2    |\n",
      "| Val    | 12   |\n",
      "| Tom    | 2    |\n",
      "| Sam    | 12   |\n",
      "| Tom    | 2    |\n",
      "| Sammy  | 11   |\n",
      "| Helan  | 2    |\n",
      "| nemao  | 11   |\n",
      "+--------+------+\n"
     ]
    }
   ],
   "source": [
    "query=\"use book_shop\"\n",
    "\n",
    "query=\"show databases\"\n",
    "query=\"select database()\"\n",
    "query=\"show tables\"\n",
    "query=\"use lit\"\n",
    "query=\"select * from cats\"\n",
    "execute_query(conn, query)              "
   ]
  },
  {
   "cell_type": "code",
   "execution_count": 7,
   "id": "773b9f91",
   "metadata": {},
   "outputs": [
    {
     "data": {
      "text/plain": [
       "[('JELLY', 5),\n",
       " ('JEGH', 3),\n",
       " ('KOGH', 3),\n",
       " ('reu', 5),\n",
       " ('xavior', 7),\n",
       " ('isil', 8),\n",
       " ('lilly', None),\n",
       " (None, None),\n",
       " ('JELLY', 5),\n",
       " (None, 15),\n",
       " (None, None),\n",
       " ('Raki', 15),\n",
       " ('Jolly', 35),\n",
       " ('Polly', 25),\n",
       " ('Poll', 23),\n",
       " ('Toll', 2),\n",
       " ('Rakou', 15),\n",
       " ('Rakou', 15),\n",
       " ('Toying', 23),\n",
       " ('Kohl', 2),\n",
       " ('Val', 12),\n",
       " ('Kohl', 2),\n",
       " ('Val', 12),\n",
       " ('Tom', 2),\n",
       " ('Sam', 12),\n",
       " ('Tom', 2),\n",
       " ('Sammy', 11)]"
      ]
     },
     "execution_count": 7,
     "metadata": {},
     "output_type": "execute_result"
    }
   ],
   "source": [
    "cursor=conn.cursor()\n",
    "query=f\"select * from cats\"\n",
    "cursor.execute(query)\n",
    "cursor.fetchall()"
   ]
  },
  {
   "cell_type": "code",
   "execution_count": 7,
   "id": "822b7050",
   "metadata": {},
   "outputs": [],
   "source": [
    "def insert_data(connection, table_name, values, db_name =\"\"):\n",
    "    # check if the connection is mysql connector\n",
    "    if not isinstance(connection, mysql.connector.connection_cext.CMySQLConnection):\n",
    "        termcolor.cprint(\"Error Connection Object:\",\"red\", attrs=['bold'], end=' ')\n",
    "        print(\"Connection is not a MySQL connection object.\")\n",
    "        return\n",
    "    \n",
    "    # if database is not given hence find the current database\n",
    "    if db_name==\"\":\n",
    "        cursor=connection.cursor()\n",
    "        query_select=\"select database()\"\n",
    "        cursor.execute(query_select)\n",
    "        db=cursor.fetchall()\n",
    "        db_name=db[0][0]\n",
    "        print(f\"Your database: '{db_name}'\")\n",
    "    # if user has given database \n",
    "    else:\n",
    "        try:\n",
    "            cursor=connection.cursor()\n",
    "            query_db=f\"use {db_name}\"\n",
    "            cursor.execute(query_db)\n",
    "            print(f\"Your database: {db_name}\")\n",
    "        except Exception as e:\n",
    "            termcolor.cprint(\"Error using db_name:\",\"red\", attrs=['bold'], end=' ')\n",
    "            print(e)\n",
    "            return\n",
    "    \n",
    "    # Fetching the tables of the database  \n",
    "    try: \n",
    "        query_tables='show tables'\n",
    "        cursor.execute(query_tables)\n",
    "        tables=cursor.fetchall()\n",
    "        list_table=[table[0]  for table in tables]\n",
    "\n",
    "        if table_name in list_table:\n",
    "            termcolor.cprint(\"Your table:\",\"green\", attrs=['bold'], end=' ')\n",
    "            termcolor.cprint(f\"'{table_name}'\", \"blue\", attrs=['bold'], end=' ')\n",
    "            termcolor.cprint(\", present in the database\", end=' ')\n",
    "            termcolor.cprint(f\"'{db_name}'\", \"blue\", attrs=['bold'], end='\\n')\n",
    "\n",
    "        else:\n",
    "            termcolor.cprint(\"Table not found:\", \"red\", attrs=['bold'], end=' ')\n",
    "            print(f\"'{table_name}' is not present in the database '{db_name}'.\")\n",
    "            print(f\"Select one of the following tables \", end='')\n",
    "            termcolor.cprint(f\"{list_table}\", attrs=['bold'], end=' ')\n",
    "            print(\"or create new table or use another database.\")\n",
    "            return\n",
    "    except Exception as e:\n",
    "        termcolor.cprint(\"Error fetching the tables:\",\"red\", attrs=['bold'], end=' ')\n",
    "        print(e)\n",
    "        return\n",
    "        \n",
    "    \n",
    "    \n",
    "    # if table is present in the database\n",
    "    try:   \n",
    "        query_table=f\"select * from {table_name}\"\n",
    "        cursor.execute(query_table)\n",
    "        cursor.fetchall()\n",
    "        desc=cursor.description\n",
    "        columns=[t[0] for t in desc]\n",
    "\n",
    "        flag=input(\"Enter yes if the first value of argument is 'id' and you have not provided: \").lower()\n",
    "        if flag=='y' or flag=='yes':\n",
    "            columns=columns[1:]\n",
    "        d=str(tuple(columns))\n",
    "        column_table=d.replace('\\'','')\n",
    "        \n",
    "    except Exception as e:\n",
    "        termcolor.cprint(\"Error fetching column names:\",\"red\", attrs=['bold'], end=' ')\n",
    "        print(e)\n",
    "        return\n",
    "        \n",
    "    # Writing query\n",
    "    query= f\"INSERT INTO {table_name} {column_table} VALUES ({', '.join('%s' for _ in columns)})\"\n",
    "    try:\n",
    "        tmp=0\n",
    "        while(tmp<3):\n",
    "            flag_insert=input(\"Are you inserting more than one entry?(y/n) \").lower()\n",
    "            if flag_insert=='y':\n",
    "                cursor.executemany(query, values)\n",
    "                break\n",
    "            elif flag_insert=='n':    \n",
    "                cursor.execute(query, values)\n",
    "                break\n",
    "            else:\n",
    "                print(\"Incorrect option..\")\n",
    "            tmp+=1\n",
    "        if tmp==3:\n",
    "            termcolor.cprint(\"Program exited without inserting\",\"magenta\", attrs=['bold'], end=' ')\n",
    "            return\n",
    "        connection.commit()\n",
    "        termcolor.cprint(\"Inserted successfully....\", 'green', attrs=['bold'], end=' ')\n",
    "    except Exception as e:\n",
    "        termcolor.cprint(\"Error inserting data:\",\"red\", attrs=['bold'], end=' ')\n",
    "        print(e)"
   ]
  },
  {
   "cell_type": "code",
   "execution_count": 8,
   "id": "c11f0f5e",
   "metadata": {},
   "outputs": [
    {
     "name": "stdout",
     "output_type": "stream",
     "text": [
      "Your database: 'lit'\n",
      "\u001b[1m\u001b[32mYour table:\u001b[0m \u001b[1m\u001b[34m'cats'\u001b[0m , present in the database\u001b[0m \u001b[1m\u001b[34m'lit'\u001b[0m\n",
      "Enter yes if the first value of argument is 'id' and you have not provided: q\n",
      "Are you inserting more than one entry?(y/n) qq\n",
      "Incorrect option..\n",
      "Are you inserting more than one entry?(y/n) \n",
      "Incorrect option..\n",
      "Are you inserting more than one entry?(y/n) q\n",
      "Incorrect option..\n",
      "\u001b[1m\u001b[35mProgram exited without inserting\u001b[0m "
     ]
    }
   ],
   "source": [
    "# db_name='hyj'\n",
    "table_name='cats'\n",
    "values=[\n",
    "    ('Tom', 2),\n",
    "    (\"Sammy\",11)\n",
    "]\n",
    "insert_data(conn, table_name, values)"
   ]
  },
  {
   "cell_type": "code",
   "execution_count": 138,
   "id": "69cf5a57",
   "metadata": {},
   "outputs": [
    {
     "name": "stdout",
     "output_type": "stream",
     "text": [
      "\u001b[1m\u001b[32mConnected successfully....\u001b[0m "
     ]
    }
   ],
   "source": [
    "conn=connect_to_mysql(config, attempts=3)"
   ]
  },
  {
   "cell_type": "code",
   "execution_count": 58,
   "id": "32f58dbe",
   "metadata": {},
   "outputs": [
    {
     "name": "stdout",
     "output_type": "stream",
     "text": [
      "\u001b[1m\u001b[32mQuery executed successfully....\u001b[0m\n",
      "+--------+------+\n",
      "| name   | age  |\n",
      "+--------+------+\n",
      "| JELLY  | 5    |\n",
      "| JEGH   | 3    |\n",
      "| KOGH   | 3    |\n",
      "| reu    | 5    |\n",
      "| xavior | 7    |\n",
      "| isil   | 8    |\n",
      "| lilly  | None |\n",
      "| None   | None |\n",
      "| JELLY  | 5    |\n",
      "| None   | 15   |\n",
      "| None   | None |\n",
      "| Raki   | 15   |\n",
      "| Jolly  | 35   |\n",
      "| Polly  | 25   |\n",
      "| Poll   | 23   |\n",
      "| Toll   | 2    |\n",
      "| Rakou  | 15   |\n",
      "| Rakou  | 15   |\n",
      "| Toying | 23   |\n",
      "| Kohl   | 2    |\n",
      "| Val    | 12   |\n",
      "| Kohl   | 2    |\n",
      "| Val    | 12   |\n",
      "| Tom    | 2    |\n",
      "| Sam    | 12   |\n",
      "| Tom    | 2    |\n",
      "| Sammy  | 11   |\n",
      "| Helan  | 2    |\n",
      "| nemao  | 11   |\n",
      "+--------+------+\n"
     ]
    }
   ],
   "source": [
    "query=\"select database()\"\n",
    "query=\"use book_shop\"\n",
    "query='show databases'\n",
    "# query='desc cleint'\n",
    "query='show tables'\n",
    "query='select * from cats'\n",
    "execute_query(conn, query)"
   ]
  },
  {
   "cell_type": "code",
   "execution_count": 9,
   "id": "6700606f",
   "metadata": {},
   "outputs": [],
   "source": [
    "def save_data(connection, table_name, db_name=\"\"):\n",
    "    # check if the connection is mysql connector\n",
    "    if not isinstance(connection, mysql.connector.connection_cext.CMySQLConnection):\n",
    "        termcolor.cprint(\"Error Connection Object:\",\"red\", attrs=['bold'], end=' ')\n",
    "        print(\"Connection is not a MySQL connection object.\")\n",
    "        return\n",
    "    \n",
    "    if db_name==\"\":\n",
    "        cursor=connection.cursor()\n",
    "        query_select=\"select database()\"\n",
    "        cursor.execute(query_select)\n",
    "        db=cursor.fetchall()\n",
    "        db_name=db[0][0]\n",
    "    else:\n",
    "        try:\n",
    "            cursor=connection.cursor()\n",
    "            query_db=f\"use {db_name}\"\n",
    "            cursor.execute(query_db)\n",
    "        except Exception as e:\n",
    "            termcolor.cprint(\"Error using db_name:\",\"red\", attrs=['bold'], end=' ')\n",
    "            print(e)\n",
    "            return\n",
    "    \n",
    "    try: \n",
    "        query_tables='show tables'\n",
    "        cursor.execute(query_tables)\n",
    "        tables=cursor.fetchall()\n",
    "        list_table=[table[0]  for table in tables]\n",
    "\n",
    "        if table_name not in list_table:\n",
    "            termcolor.cprint(\"Table not found:\", \"red\", attrs=['bold'], end=' ')\n",
    "            print(f\"'{table_name}' is not present in the database '{db_name}'.\")\n",
    "            print(f\"Select one of the following tables \", end='')\n",
    "            termcolor.cprint(f\"{list_table}\", attrs=['bold'], end=' ')\n",
    "            print(\"or create new table or use another database.\")\n",
    "            return\n",
    "            \n",
    "    except Exception as e:\n",
    "        termcolor.cprint(\"Error fetching the tables:\",\"red\", attrs=['bold'], end=' ')\n",
    "        print(e)\n",
    "        return\n",
    "    \n",
    "    try:\n",
    "        query = f\"SELECT * FROM {table_name}\"\n",
    "        cursor.execute(query)\n",
    "        rows = cursor.fetchall()\n",
    "        column_names = [desc[0] for desc in cursor.description]\n",
    "        csv_file_name =input(\"Enter the filename: \")\n",
    "        # Create the full path for the output CSV file\n",
    "        file_path=os.path.join(os.getcwd(), csv_file_name)\n",
    "        with open(file_path, 'w', newline='') as csv_file:\n",
    "            csv_writer = csv.writer(csv_file)\n",
    "            csv_writer.writerow(column_names)\n",
    "            csv_writer.writerows(rows)\n",
    "        if os.path.exists(csv_file_name):\n",
    "            termcolor.cprint(\"File:\", 'green', attrs=['bold'], end=' ')\n",
    "            termcolor.cprint(f\"'{csv_file_name}'\", 'blue', attrs=['bold'], end=' ')\n",
    "            termcolor.cprint(\"saved successfully....\", 'green', attrs=['bold'])\n",
    "            \n",
    "    except Exception as e:\n",
    "        termcolor.cprint(\"Error saving data:\",\"red\", attrs=['bold'], end=' ')\n",
    "        print(e)"
   ]
  },
  {
   "cell_type": "code",
   "execution_count": 11,
   "id": "70ca376b",
   "metadata": {},
   "outputs": [
    {
     "name": "stdout",
     "output_type": "stream",
     "text": [
      "Enter the filename: oi.csv\n",
      "\u001b[1m\u001b[32mFile:\u001b[0m \u001b[1m\u001b[34m'oi.csv'\u001b[0m \u001b[1m\u001b[32msaved successfully....\u001b[0m\n"
     ]
    }
   ],
   "source": [
    "table_name='cats'\n",
    "db_name='lit'\n",
    "save_data(conn, table_name, db_name)"
   ]
  },
  {
   "cell_type": "code",
   "execution_count": null,
   "id": "9db16bed",
   "metadata": {},
   "outputs": [],
   "source": [
    "## Give name of the database or default \n",
    "## Give the correct name of the table"
   ]
  },
  {
   "cell_type": "code",
   "execution_count": 51,
   "id": "7bd34116",
   "metadata": {},
   "outputs": [],
   "source": [
    "# Helper functions\n",
    "def fetch_db(connection,db_name):\n",
    "    if db_name==\"\":\n",
    "        cursor=connection.cursor()\n",
    "        query_select=\"select database()\"\n",
    "        cursor.execute(query_select)\n",
    "        db=cursor.fetchall()\n",
    "        db_name=db[0][0]\n",
    "        return cursor,db_name\n",
    "    else:\n",
    "        try:\n",
    "            cursor=connection.cursor()\n",
    "            query_db=f\"use {db_name}\"\n",
    "            cursor.execute(query_db)\n",
    "            return cursor,db_name\n",
    "        except Exception as e:\n",
    "            termcolor.cprint(\"Error using db_name:\",\"red\", attrs=['bold'], end=' ')\n",
    "            print(e,end='')\n",
    "            return _,None\n",
    "\n",
    "def fetch_tables(cursor):\n",
    "    query_tables='show tables'\n",
    "    cursor.execute(query_tables)\n",
    "    tables=cursor.fetchall()\n",
    "    list_table=[table[0]  for table in tables]\n",
    "    return list_table"
   ]
  },
  {
   "cell_type": "code",
   "execution_count": 52,
   "id": "b355de5a",
   "metadata": {},
   "outputs": [],
   "source": [
    "def save_dta(connection, table_name, db_name=\"\"):\n",
    "    # check if the connection is mysql connector\n",
    "    if not isinstance(connection, mysql.connector.connection_cext.CMySQLConnection):\n",
    "        termcolor.cprint(\"Error Connection Object:\",\"red\", attrs=['bold'], end=' ')\n",
    "        print(\"Connection is not a MySQL connection object.\")\n",
    "        return\n",
    "    \n",
    "    cursor,db_name=fetch_db(connection,db_name)\n",
    "    if db_name==None:\n",
    "        return\n",
    "    \n",
    "    try: \n",
    "        list_table=fetch_tables(cursor)\n",
    "        \n",
    "        if table_name not in list_table:\n",
    "            termcolor.cprint(\"Table not found:\", \"red\", attrs=['bold'], end=' ')\n",
    "            print(f\"'{table_name}' is not present in the database '{db_name}'.\")\n",
    "            print(f\"Select one of the following tables \", end='')\n",
    "            termcolor.cprint(f\"{list_table}\", attrs=['bold'], end=' ')\n",
    "            print(\"or create new table or use another database.\")\n",
    "            return\n",
    "            \n",
    "    except Exception as e:\n",
    "        termcolor.cprint(\"Error fetching the tables:\",\"red\", attrs=['bold'], end=' ')\n",
    "        print(e)\n",
    "        return\n",
    "    \n",
    "    try:\n",
    "        query = f\"SELECT * FROM {table_name}\"\n",
    "        cursor.execute(query)\n",
    "        rows = cursor.fetchall()\n",
    "        column_names = [desc[0] for desc in cursor.description]\n",
    "        csv_file_name =input(\"Enter the filename: \")\n",
    "        # Create the full path for the output CSV file\n",
    "        file_path=os.path.join(os.getcwd(), csv_file_name)\n",
    "        with open(file_path, 'w', newline='') as csv_file:\n",
    "            csv_writer = csv.writer(csv_file)\n",
    "            csv_writer.writerow(column_names)\n",
    "            csv_writer.writerows(rows)\n",
    "        if os.path.exists(csv_file_name):\n",
    "            termcolor.cprint(\"File:\", 'green', attrs=['bold'], end=' ')\n",
    "            termcolor.cprint(f\"'{csv_file_name}'\", 'blue', attrs=['bold'], end=' ')\n",
    "            termcolor.cprint(\"saved successfully....\", 'green', attrs=['bold'])\n",
    "            \n",
    "    except Exception as e:\n",
    "        termcolor.cprint(\"Error saving data:\",\"red\", attrs=['bold'], end=' ')\n",
    "        print(e)"
   ]
  },
  {
   "cell_type": "code",
   "execution_count": 53,
   "id": "baeb805d",
   "metadata": {},
   "outputs": [
    {
     "name": "stdout",
     "output_type": "stream",
     "text": [
      "Enter the filename: t\n",
      "\u001b[1m\u001b[32mFile:\u001b[0m \u001b[1m\u001b[34m't'\u001b[0m \u001b[1m\u001b[32msaved successfully....\u001b[0m\n"
     ]
    }
   ],
   "source": [
    "table_name='cats'\n",
    "db_name='lit'\n",
    "save_dta(conn, table_name,db_name)"
   ]
  },
  {
   "cell_type": "code",
   "execution_count": 56,
   "id": "388f1211",
   "metadata": {},
   "outputs": [],
   "source": [
    "def insert_dta(connection, table_name, values, db_name =\"\"):\n",
    "    # check if the connection is mysql connector\n",
    "    if not isinstance(connection, mysql.connector.connection_cext.CMySQLConnection):\n",
    "        termcolor.cprint(\"Error Connection Object:\",\"red\", attrs=['bold'], end=' ')\n",
    "        print(\"Connection is not a MySQL connection object.\")\n",
    "        return\n",
    "    \n",
    "    # if database is not given hence find the current database\n",
    "    cursor,db_name=fetch_db(connection,db_name)\n",
    "    if db_name==None:\n",
    "        return\n",
    "    else:\n",
    "        print(f\"Your database: '{db_name}'\")\n",
    "    \n",
    "    # Fetching the tables of the database  \n",
    "    try: \n",
    "        list_table=fetch_tables(cursor)\n",
    "\n",
    "        if table_name in list_table:\n",
    "            termcolor.cprint(\"Your table:\",\"green\", attrs=['bold'], end=' ')\n",
    "            termcolor.cprint(f\"'{table_name}'\", \"blue\", attrs=['bold'], end=' ')\n",
    "            termcolor.cprint(\", present in the database\", end=' ')\n",
    "            termcolor.cprint(f\"'{db_name}'\", \"blue\", attrs=['bold'], end='\\n')\n",
    "\n",
    "        else:\n",
    "            termcolor.cprint(\"Table not found:\", \"red\", attrs=['bold'], end=' ')\n",
    "            print(f\"'{table_name}' is not present in the database '{db_name}'.\")\n",
    "            print(f\"Select one of the following tables \", end='')\n",
    "            termcolor.cprint(f\"{list_table}\", attrs=['bold'], end=' ')\n",
    "            print(\"or create new table or use another database.\")\n",
    "            return\n",
    "    except Exception as e:\n",
    "        termcolor.cprint(\"Error fetching the tables:\",\"red\", attrs=['bold'], end=' ')\n",
    "        print(e)\n",
    "        return\n",
    "        \n",
    "    \n",
    "    \n",
    "    # if table is present in the database\n",
    "    try:   \n",
    "        query_table=f\"select * from {table_name}\"\n",
    "        cursor.execute(query_table)\n",
    "        cursor.fetchall()\n",
    "        desc=cursor.description\n",
    "        columns=[t[0] for t in desc]\n",
    "\n",
    "        flag=input(\"Enter yes if the first value of argument is 'id' and you have not provided: \").lower()\n",
    "        if flag=='y' or flag=='yes':\n",
    "            columns=columns[1:]\n",
    "        d=str(tuple(columns))\n",
    "        column_table=d.replace('\\'','')\n",
    "        \n",
    "    except Exception as e:\n",
    "        termcolor.cprint(\"Error fetching column names:\",\"red\", attrs=['bold'], end=' ')\n",
    "        print(e)\n",
    "        return\n",
    "        \n",
    "    # Writing query\n",
    "    query= f\"INSERT INTO {table_name} {column_table} VALUES ({', '.join('%s' for _ in columns)})\"\n",
    "    try:\n",
    "        tmp=0\n",
    "        while(tmp<3):\n",
    "            flag_insert=input(\"Are you inserting more than one entry?(y/n) \").lower()\n",
    "            if flag_insert=='y':\n",
    "                cursor.executemany(query, values)\n",
    "                break\n",
    "            elif flag_insert=='n':    \n",
    "                cursor.execute(query, values)\n",
    "                break\n",
    "            else:\n",
    "                print(\"Incorrect option..\")\n",
    "            tmp+=1\n",
    "        if tmp==3:\n",
    "            termcolor.cprint(\"Program exited without inserting\",\"magenta\", attrs=['bold'], end=' ')\n",
    "            return\n",
    "        connection.commit()\n",
    "        termcolor.cprint(\"Inserted successfully....\", 'green', attrs=['bold'], end=' ')\n",
    "    except Exception as e:\n",
    "        termcolor.cprint(\"Error inserting data:\",\"red\", attrs=['bold'], end=' ')\n",
    "        print(e)"
   ]
  },
  {
   "cell_type": "code",
   "execution_count": 63,
   "id": "51226c8e",
   "metadata": {},
   "outputs": [
    {
     "name": "stdout",
     "output_type": "stream",
     "text": [
      "Your database: 'lit'\n",
      "\u001b[1m\u001b[32mYour table:\u001b[0m \u001b[1m\u001b[34m'cats'\u001b[0m , present in the database\u001b[0m \u001b[1m\u001b[34m'lit'\u001b[0m\n",
      "Enter yes if the first value of argument is 'id' and you have not provided: \n",
      "Are you inserting more than one entry?(y/n) y\n",
      "\u001b[1m\u001b[31mError inserting data:\u001b[0m Parameters for query must be list or tuple.\n"
     ]
    }
   ],
   "source": [
    "db_name='hyj'\n",
    "table_name='cats'\n",
    "values=[\n",
    "    ('Helan', 2),\n",
    "    (\"nemao\",11)\n",
    "]\n",
    "insert_dta(conn, table_name, values)"
   ]
  },
  {
   "cell_type": "code",
   "execution_count": 33,
   "id": "a429189b",
   "metadata": {},
   "outputs": [],
   "source": [
    "# Coonection is verified\n",
    "cursor = conn.cursor()\n"
   ]
  },
  {
   "cell_type": "code",
   "execution_count": 62,
   "id": "78167a63",
   "metadata": {},
   "outputs": [
    {
     "data": {
      "text/plain": [
       "'SELECT * FROM cats'"
      ]
     },
     "execution_count": 62,
     "metadata": {},
     "output_type": "execute_result"
    }
   ],
   "source": [
    "# \n",
    "table_name='cats'\n",
    "quey = f\"SELECT * FROM {table_name}\"\n",
    "quey"
   ]
  },
  {
   "cell_type": "code",
   "execution_count": 63,
   "id": "ba0cdf5b",
   "metadata": {},
   "outputs": [],
   "source": [
    "cursor.execute(quey)"
   ]
  },
  {
   "cell_type": "code",
   "execution_count": 64,
   "id": "98338d74",
   "metadata": {},
   "outputs": [
    {
     "data": {
      "text/plain": [
       "[('JELLY', 5),\n",
       " ('JEGH', 3),\n",
       " ('KOGH', 3),\n",
       " ('reu', 5),\n",
       " ('xavior', 7),\n",
       " ('isil', 8),\n",
       " ('lilly', None),\n",
       " (None, None),\n",
       " ('JELLY', 5),\n",
       " (None, 15),\n",
       " (None, None),\n",
       " ('Raki', 15),\n",
       " ('Jolly', 35),\n",
       " ('Polly', 25),\n",
       " ('Poll', 23),\n",
       " ('Toll', 2),\n",
       " ('Rakou', 15),\n",
       " ('Rakou', 15),\n",
       " ('Toying', 23),\n",
       " ('Kohl', 2),\n",
       " ('Val', 12),\n",
       " ('Kohl', 2),\n",
       " ('Val', 12),\n",
       " ('Tom', 2),\n",
       " ('Sam', 12)]"
      ]
     },
     "execution_count": 64,
     "metadata": {},
     "output_type": "execute_result"
    }
   ],
   "source": [
    "rows = cursor.fetchall()\n",
    "rows"
   ]
  },
  {
   "cell_type": "code",
   "execution_count": 60,
   "id": "61edd70b",
   "metadata": {},
   "outputs": [
    {
     "data": {
      "text/plain": [
       "['name', 'age']"
      ]
     },
     "execution_count": 60,
     "metadata": {},
     "output_type": "execute_result"
    }
   ],
   "source": [
    "column_names = [desc[0] for desc in cursor.description]\n",
    "column_names"
   ]
  },
  {
   "cell_type": "code",
   "execution_count": 51,
   "id": "3e1cb67b",
   "metadata": {},
   "outputs": [
    {
     "name": "stdout",
     "output_type": "stream",
     "text": [
      "Enter the filename: out.csv\n"
     ]
    }
   ],
   "source": [
    "csv_file_name = 'output.csv'\n",
    "csv_file_name =input(\"Enter the filename: \")"
   ]
  },
  {
   "cell_type": "code",
   "execution_count": 61,
   "id": "f88a0123",
   "metadata": {},
   "outputs": [
    {
     "name": "stdout",
     "output_type": "stream",
     "text": [
      "File 'E:\\MLOps\\ineuron_python_package(copy)\\experiments\\out.csv' saved successfully.\n"
     ]
    }
   ],
   "source": [
    "if not os.path.exists(csv_file_name):\n",
    "    print(\"Hi\")\n",
    "    # Create the full path for the output CSV file\n",
    "    file_path=os.path.join(os.getcwd(), csv_file_name)\n",
    "with open(file_path, 'w', newline='') as csv_file:\n",
    "    csv_writer = csv.writer(csv_file)\n",
    "    csv_writer.writerow(column_names)\n",
    "    csv_writer.writerows(rows)\n",
    "print(f\"File '{file_path}' saved successfully.\")"
   ]
  },
  {
   "cell_type": "code",
   "execution_count": 48,
   "id": "d341238d",
   "metadata": {},
   "outputs": [],
   "source": [
    "folder_path = 'outputf'\n",
    "csv_file_name = 'output.csv'\n",
    "file_path='outputf/output.csv'"
   ]
  },
  {
   "cell_type": "code",
   "execution_count": null,
   "id": "250ddbfb",
   "metadata": {},
   "outputs": [],
   "source": []
  },
  {
   "cell_type": "code",
   "execution_count": 65,
   "id": "80205553",
   "metadata": {},
   "outputs": [],
   "source": [
    "t='Hi'\n",
    "tables=['Hi', 'Ki', 'Ji']"
   ]
  },
  {
   "cell_type": "code",
   "execution_count": 67,
   "id": "cc9082d0",
   "metadata": {},
   "outputs": [],
   "source": [
    "if t not in tables:\n",
    "    print(\"Yes\")"
   ]
  },
  {
   "cell_type": "code",
   "execution_count": null,
   "id": "b8809a45",
   "metadata": {},
   "outputs": [],
   "source": []
  },
  {
   "cell_type": "code",
   "execution_count": null,
   "id": "80b09889",
   "metadata": {},
   "outputs": [],
   "source": []
  },
  {
   "cell_type": "code",
   "execution_count": null,
   "id": "92efb134",
   "metadata": {},
   "outputs": [],
   "source": []
  },
  {
   "cell_type": "code",
   "execution_count": null,
   "id": "c4c567bd",
   "metadata": {},
   "outputs": [],
   "source": []
  },
  {
   "cell_type": "code",
   "execution_count": null,
   "id": "530713ec",
   "metadata": {},
   "outputs": [],
   "source": []
  },
  {
   "cell_type": "code",
   "execution_count": null,
   "id": "23c87af7",
   "metadata": {},
   "outputs": [],
   "source": []
  },
  {
   "cell_type": "code",
   "execution_count": null,
   "id": "925f899f",
   "metadata": {},
   "outputs": [],
   "source": []
  },
  {
   "cell_type": "code",
   "execution_count": null,
   "id": "fbd45e0c",
   "metadata": {},
   "outputs": [],
   "source": []
  },
  {
   "cell_type": "code",
   "execution_count": null,
   "id": "8b5fd544",
   "metadata": {},
   "outputs": [],
   "source": []
  },
  {
   "cell_type": "code",
   "execution_count": null,
   "id": "db114c48",
   "metadata": {},
   "outputs": [],
   "source": []
  },
  {
   "cell_type": "code",
   "execution_count": null,
   "id": "0460c5db",
   "metadata": {},
   "outputs": [],
   "source": []
  },
  {
   "cell_type": "code",
   "execution_count": null,
   "id": "38b54b9f",
   "metadata": {},
   "outputs": [],
   "source": []
  },
  {
   "cell_type": "code",
   "execution_count": null,
   "id": "aafdc7f1",
   "metadata": {},
   "outputs": [],
   "source": []
  },
  {
   "cell_type": "code",
   "execution_count": null,
   "id": "1a92d15e",
   "metadata": {},
   "outputs": [],
   "source": []
  },
  {
   "cell_type": "code",
   "execution_count": null,
   "id": "cfa8a3fe",
   "metadata": {},
   "outputs": [],
   "source": []
  },
  {
   "cell_type": "code",
   "execution_count": null,
   "id": "33c6e6a5",
   "metadata": {},
   "outputs": [],
   "source": []
  },
  {
   "cell_type": "code",
   "execution_count": null,
   "id": "ee8e910d",
   "metadata": {},
   "outputs": [],
   "source": []
  },
  {
   "cell_type": "code",
   "execution_count": null,
   "id": "928a2489",
   "metadata": {},
   "outputs": [],
   "source": []
  },
  {
   "cell_type": "code",
   "execution_count": null,
   "id": "76bcdc38",
   "metadata": {},
   "outputs": [],
   "source": []
  },
  {
   "cell_type": "code",
   "execution_count": null,
   "id": "368a081c",
   "metadata": {},
   "outputs": [],
   "source": []
  },
  {
   "cell_type": "code",
   "execution_count": null,
   "id": "0cc36f55",
   "metadata": {},
   "outputs": [],
   "source": []
  },
  {
   "cell_type": "code",
   "execution_count": null,
   "id": "3b9513c8",
   "metadata": {},
   "outputs": [],
   "source": []
  },
  {
   "cell_type": "code",
   "execution_count": null,
   "id": "b08fe1a9",
   "metadata": {},
   "outputs": [],
   "source": []
  },
  {
   "cell_type": "code",
   "execution_count": null,
   "id": "cd7b1d47",
   "metadata": {},
   "outputs": [],
   "source": []
  },
  {
   "cell_type": "code",
   "execution_count": null,
   "id": "2eeb770f",
   "metadata": {},
   "outputs": [],
   "source": []
  },
  {
   "cell_type": "code",
   "execution_count": null,
   "id": "4b5fb3b8",
   "metadata": {},
   "outputs": [],
   "source": []
  },
  {
   "cell_type": "code",
   "execution_count": null,
   "id": "bbf37de8",
   "metadata": {},
   "outputs": [],
   "source": []
  },
  {
   "cell_type": "code",
   "execution_count": 63,
   "id": "12377a17",
   "metadata": {},
   "outputs": [
    {
     "data": {
      "text/plain": [
       "'INSERT INTO cats (name, age) VALUES (%s, %s)'"
      ]
     },
     "execution_count": 63,
     "metadata": {},
     "output_type": "execute_result"
    }
   ],
   "source": [
    "data=('Poying', 23)\n",
    "table_name='cats'\n",
    "quer= f\"INSERT INTO {table_name} {co} VALUES (%s, %s)\"\n",
    "quer"
   ]
  },
  {
   "cell_type": "code",
   "execution_count": 64,
   "id": "09a30141",
   "metadata": {
    "collapsed": true
   },
   "outputs": [
    {
     "ename": "InterfaceError",
     "evalue": "Failed executing the operation; Could not process parameters: str(Poying), it must be of type list, tuple or dict",
     "output_type": "error",
     "traceback": [
      "\u001b[1;31m---------------------------------------------------------------------------\u001b[0m",
      "\u001b[1;31mInterfaceError\u001b[0m                            Traceback (most recent call last)",
      "Cell \u001b[1;32mIn[64], line 1\u001b[0m\n\u001b[1;32m----> 1\u001b[0m \u001b[43mcursor\u001b[49m\u001b[38;5;241;43m.\u001b[39;49m\u001b[43mexecutemany\u001b[49m\u001b[43m(\u001b[49m\u001b[43mquer\u001b[49m\u001b[43m,\u001b[49m\u001b[43m \u001b[49m\u001b[43mdata\u001b[49m\u001b[43m)\u001b[49m\n",
      "File \u001b[1;32m~\\AppData\\Local\\Programs\\Python\\Python310\\lib\\site-packages\\mysql\\connector\\cursor_cext.py:452\u001b[0m, in \u001b[0;36mCMySQLCursor.executemany\u001b[1;34m(self, operation, seq_params)\u001b[0m\n\u001b[0;32m    450\u001b[0m     \u001b[38;5;28mself\u001b[39m\u001b[38;5;241m.\u001b[39m_rowcount \u001b[38;5;241m=\u001b[39m \u001b[38;5;241m0\u001b[39m\n\u001b[0;32m    451\u001b[0m     \u001b[38;5;28;01mreturn\u001b[39;00m \u001b[38;5;28;01mNone\u001b[39;00m\n\u001b[1;32m--> 452\u001b[0m stmt \u001b[38;5;241m=\u001b[39m \u001b[38;5;28;43mself\u001b[39;49m\u001b[38;5;241;43m.\u001b[39;49m\u001b[43m_batch_insert\u001b[49m\u001b[43m(\u001b[49m\u001b[43moperation\u001b[49m\u001b[43m,\u001b[49m\u001b[43m \u001b[49m\u001b[43mseq_params\u001b[49m\u001b[43m)\u001b[49m\n\u001b[0;32m    453\u001b[0m \u001b[38;5;28;01mif\u001b[39;00m stmt \u001b[38;5;129;01mis\u001b[39;00m \u001b[38;5;129;01mnot\u001b[39;00m \u001b[38;5;28;01mNone\u001b[39;00m:\n\u001b[0;32m    454\u001b[0m     \u001b[38;5;28mself\u001b[39m\u001b[38;5;241m.\u001b[39m_executed \u001b[38;5;241m=\u001b[39m stmt\n",
      "File \u001b[1;32m~\\AppData\\Local\\Programs\\Python\\Python310\\lib\\site-packages\\mysql\\connector\\cursor_cext.py:406\u001b[0m, in \u001b[0;36mCMySQLCursor._batch_insert\u001b[1;34m(self, operation, seq_params)\u001b[0m\n\u001b[0;32m    404\u001b[0m     \u001b[38;5;28;01mraise\u001b[39;00m ProgrammingError(\u001b[38;5;28mstr\u001b[39m(err)) \u001b[38;5;28;01mfrom\u001b[39;00m \u001b[38;5;21;01merr\u001b[39;00m\n\u001b[0;32m    405\u001b[0m \u001b[38;5;28;01mexcept\u001b[39;00m \u001b[38;5;167;01mException\u001b[39;00m \u001b[38;5;28;01mas\u001b[39;00m err:\n\u001b[1;32m--> 406\u001b[0m     \u001b[38;5;28;01mraise\u001b[39;00m InterfaceError(\u001b[38;5;124mf\u001b[39m\u001b[38;5;124m\"\u001b[39m\u001b[38;5;124mFailed executing the operation; \u001b[39m\u001b[38;5;132;01m{\u001b[39;00merr\u001b[38;5;132;01m}\u001b[39;00m\u001b[38;5;124m\"\u001b[39m) \u001b[38;5;28;01mfrom\u001b[39;00m \u001b[38;5;28;01mNone\u001b[39;00m\n",
      "\u001b[1;31mInterfaceError\u001b[0m: Failed executing the operation; Could not process parameters: str(Poying), it must be of type list, tuple or dict"
     ]
    }
   ],
   "source": [
    "cursor.executemany(quer, data)"
   ]
  },
  {
   "cell_type": "code",
   "execution_count": 61,
   "id": "aa5d786c",
   "metadata": {},
   "outputs": [],
   "source": [
    "conn.commit()"
   ]
  },
  {
   "cell_type": "code",
   "execution_count": 19,
   "id": "77162e10",
   "metadata": {},
   "outputs": [],
   "source": [
    "conn.close()"
   ]
  },
  {
   "cell_type": "code",
   "execution_count": 22,
   "id": "2abbaa0b",
   "metadata": {},
   "outputs": [
    {
     "data": {
      "text/plain": [
       "True"
      ]
     },
     "execution_count": 22,
     "metadata": {},
     "output_type": "execute_result"
    }
   ],
   "source": [
    "cursor.close()"
   ]
  }
 ],
 "metadata": {
  "kernelspec": {
   "display_name": "python_3.10",
   "language": "python",
   "name": "python_3.10"
  },
  "language_info": {
   "codemirror_mode": {
    "name": "ipython",
    "version": 3
   },
   "file_extension": ".py",
   "mimetype": "text/x-python",
   "name": "python",
   "nbconvert_exporter": "python",
   "pygments_lexer": "ipython3",
   "version": "3.10.11"
  }
 },
 "nbformat": 4,
 "nbformat_minor": 5
}
